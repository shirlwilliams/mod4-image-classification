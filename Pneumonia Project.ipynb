{
 "cells": [
  {
   "cell_type": "markdown",
   "metadata": {},
   "source": [
    "# Image Classification with Deep Learning - Pneumonia\n",
    "Module 4 Project\n",
    "\n",
    "Objective: Given a chest x-ray image of pediatric patients, build a model that can classify whether a given patient has pneumonia.\n",
    "\n",
    "Goal: Build a deep neural network trained on a large dataset for classification on a non-trivial task."
   ]
  },
  {
   "cell_type": "markdown",
   "metadata": {},
   "source": [
    "# The Data\n",
    "Imports and the dataset from Kaggle."
   ]
  },
  {
   "cell_type": "code",
   "execution_count": 43,
   "metadata": {},
   "outputs": [],
   "source": [
    "# Necessary libraries and classes\n",
    "import numpy as np\n",
    "import pandas as pd\n",
    "import seaborn as sns\n",
    "import matplotlib.pyplot as plt\n",
    "import glob\n",
    "import os\n",
    "from keras.preprocessing.image import ImageDataGenerator, array_to_img, img_to_array, load_img\n",
    "from keras.models import Sequential, load_model\n",
    "from keras import initializers\n",
    "from keras import layers\n",
    "from keras import regularizers\n",
    "from keras.layers import Dense, Conv2D, MaxPool2D, Flatten, Activation, MaxPooling2D, Dropout\n",
    "from keras import optimizers\n",
    "from keras.optimizers import SGD\n",
    "from keras.callbacks import EarlyStopping, ModelCheckpoint\n",
    "from sklearn.preprocessing import StandardScaler \n",
    "from sklearn.metrics import mean_squared_error\n",
    "from sklearn.model_selection import train_test_split\n",
    "from sklearn.metrics import accuracy_score, confusion_matrix, f1_score, precision_score, recall_score\n",
    "import warnings \n",
    "warnings.filterwarnings('ignore')"
   ]
  },
  {
   "cell_type": "markdown",
   "metadata": {},
   "source": [
    "## Uploading\n",
    "Data was taken from <a href=\"https://www.kaggle.com/paultimothymooney/chest-xray-pneumonia\">Kaggle</a>. To transfrom train data I used image augmentation to increase the "
   ]
  },
  {
   "cell_type": "code",
   "execution_count": 44,
   "metadata": {},
   "outputs": [
    {
     "name": "stdout",
     "output_type": "stream",
     "text": [
      "Found 5216 images belonging to 2 classes.\n",
      "Found 624 images belonging to 2 classes.\n",
      "Found 16 images belonging to 2 classes.\n"
     ]
    }
   ],
   "source": [
    "# Directory path\n",
    "train_data_dir = '/Users/shirlwilliams/Documents/Coursework/Data Science/mod4 project/chest_xray 2/train'\n",
    "test_data_dir = '/Users/shirlwilliams/Documents/Coursework/Data Science/mod4 project/chest_xray 2/test'\n",
    "val_data_dir = '/Users/shirlwilliams/Documents/Coursework/Data Science/mod4 project/chest_xray 2/val'\n",
    "\n",
    "# Get all the data the pneumonia train directory (5216 images), and reshape them\n",
    "train_generator = ImageDataGenerator(\n",
    "    rotation_range=40,\n",
    "    width_shift_range=0.2,\n",
    "    height_shift_range=0.2,\n",
    "    shear_range=0.2,\n",
    "    zoom_range=0.2,\n",
    "    horizontal_flip=True,\n",
    "    fill_mode='nearest'\n",
    "    ).flow_from_directory(\n",
    "        train_data_dir, \n",
    "        target_size=(224, 224), \n",
    "        batch_size=5216,\n",
    "        class_mode='binary',\n",
    "        shuffle=True,\n",
    "        seed=42)\n",
    "\n",
    "# Get all the data in the test directory (624 images), and reshape them\n",
    "test_generator = ImageDataGenerator().flow_from_directory(\n",
    "        test_data_dir, \n",
    "        target_size=(224, 224), \n",
    "        batch_size=624,\n",
    "        class_mode='binary',\n",
    "        shuffle=False)\n",
    "\n",
    "# Get all the data in the validation directory (624 images), and reshape them\n",
    "val_generator = ImageDataGenerator().flow_from_directory(\n",
    "        val_data_dir, \n",
    "        target_size=(224, 224), \n",
    "        batch_size=16,\n",
    "        class_mode='binary',\n",
    "        shuffle=False)\n",
    "\n",
    "# Create the datasets\n",
    "train_images, train_labels = next(train_generator)\n",
    "test_images, test_labels = next(test_generator)\n",
    "val_images, val_labels = next(val_generator)"
   ]
  },
  {
   "cell_type": "markdown",
   "metadata": {},
   "source": [
    "### Inspect the data"
   ]
  },
  {
   "cell_type": "code",
   "execution_count": 45,
   "metadata": {},
   "outputs": [
    {
     "name": "stdout",
     "output_type": "stream",
     "text": [
      "1341 3875 234 390 8 8\n"
     ]
    }
   ],
   "source": [
    "normal_train = glob.glob('/Users/shirlwilliams/Documents/Coursework/Data Science/mod4 project/chest_xray 2/train/NORMAL/*.jpeg')\n",
    "pneu_train = glob.glob('/Users/shirlwilliams/Documents/Coursework/Data Science/mod4 project/chest_xray 2/train/PNEUMONIA/*.jpeg')\n",
    "normal_test = glob.glob('/Users/shirlwilliams/Documents/Coursework/Data Science/mod4 project/chest_xray 2/test/NORMAL/*.jpeg')\n",
    "pneu_test = glob.glob('/Users/shirlwilliams/Documents/Coursework/Data Science/mod4 project/chest_xray 2/test/PNEUMONIA/*.jpeg')\n",
    "normal_val = glob.glob('/Users/shirlwilliams/Documents/Coursework/Data Science/mod4 project/chest_xray 2/val/NORMAL/*.jpeg')\n",
    "pneu_val = glob.glob('/Users/shirlwilliams/Documents/Coursework/Data Science/mod4 project/chest_xray 2/val/PNEUMONIA/*.jpeg')\n",
    "\n",
    "print(len(normal_train), len(pneu_train), len(normal_test), len(pneu_test), len(normal_val), len(pneu_val))"
   ]
  },
  {
   "cell_type": "markdown",
   "metadata": {},
   "source": [
    "### Transform the data to matrices"
   ]
  },
  {
   "cell_type": "code",
   "execution_count": 46,
   "metadata": {},
   "outputs": [
    {
     "name": "stdout",
     "output_type": "stream",
     "text": [
      "(5216, 150528)\n",
      "(624, 150528)\n",
      "(16, 5870592)\n"
     ]
    }
   ],
   "source": [
    "# Transform each matrix to 2D\n",
    "train_img_unrow = train_images.reshape(-1, 5216).T\n",
    "test_img_unrow = test_images.reshape(-1, 624).T\n",
    "val_img_unrow = test_images.reshape(-1, 16).T\n",
    "\n",
    "print(np.shape(train_img_unrow))\n",
    "print(np.shape(test_img_unrow))\n",
    "print(np.shape(val_img_unrow))"
   ]
  },
  {
   "cell_type": "markdown",
   "metadata": {},
   "source": [
    "## Function to Graph Results"
   ]
  },
  {
   "cell_type": "code",
   "execution_count": 47,
   "metadata": {},
   "outputs": [],
   "source": [
    "def graph_models(model):\n",
    "    # model1 details\n",
    "    model_dict = model.history\n",
    "    model_acc_values = model_dict['acc'] \n",
    "    model_loss_values = model_dict['loss']\n",
    "\n",
    "    # Plot the accuracy and loss for these models\n",
    "    fig1, ax = plt.subplots(2, figsize=(10, 12))\n",
    "    epochs = range(1, len(model_acc_values) + 1)\n",
    "\n",
    "    # Training Accuracy\n",
    "    ax[0].plot(epochs, model_acc_values, 'b', label= 'Training Accuracy')\n",
    "    ax[0].set_title('Training Accuracy and Loss')\n",
    "    ax[0].set_xlabel('Epochs')\n",
    "    ax[0].set_ylabel('Accuracy')\n",
    "    ax[0].legend();\n",
    "\n",
    "    # Training Loss\n",
    "    ax[1].plot(epochs, model_loss_values, 'g', label= 'Training Loss')\n",
    "    ax[1].set_xlabel('Epochs')\n",
    "    ax[1].set_ylabel('Loss')\n",
    "    ax[1].legend();\n",
    "    plt.show()"
   ]
  },
  {
   "cell_type": "markdown",
   "metadata": {},
   "source": [
    "# Baseline Model\n",
    "Bare bones baseline model using a neural network."
   ]
  },
  {
   "cell_type": "code",
   "execution_count": 37,
   "metadata": {},
   "outputs": [
    {
     "name": "stdout",
     "output_type": "stream",
     "text": [
      "Epoch 1/25\n",
      "5216/5216 [==============================] - 27s 5ms/step - loss: 11.9710 - acc: 0.2573\n",
      "Epoch 2/25\n",
      "5216/5216 [==============================] - 24s 5ms/step - loss: 11.9742 - acc: 0.2571\n",
      "Epoch 3/25\n",
      "5216/5216 [==============================] - 24s 5ms/step - loss: 11.9742 - acc: 0.2571\n",
      "Epoch 4/25\n",
      "5216/5216 [==============================] - 27s 5ms/step - loss: 11.9742 - acc: 0.2571\n",
      "Epoch 5/25\n",
      "5216/5216 [==============================] - 27s 5ms/step - loss: 11.9742 - acc: 0.2571\n",
      "Epoch 6/25\n",
      "5216/5216 [==============================] - 26s 5ms/step - loss: 11.9742 - acc: 0.2571\n",
      "Epoch 7/25\n",
      "5216/5216 [==============================] - 27s 5ms/step - loss: 11.9742 - acc: 0.2571\n",
      "Epoch 8/25\n",
      "5216/5216 [==============================] - 27s 5ms/step - loss: 11.9742 - acc: 0.2571\n",
      "Epoch 9/25\n",
      "5216/5216 [==============================] - 26s 5ms/step - loss: 11.9742 - acc: 0.2571\n",
      "Epoch 10/25\n",
      "5216/5216 [==============================] - 27s 5ms/step - loss: 11.9742 - acc: 0.2571\n",
      "Epoch 11/25\n",
      "5216/5216 [==============================] - 27s 5ms/step - loss: 11.9742 - acc: 0.2571\n",
      "Epoch 12/25\n",
      "5216/5216 [==============================] - 26s 5ms/step - loss: 11.9742 - acc: 0.2571\n",
      "Epoch 13/25\n",
      "5216/5216 [==============================] - 25s 5ms/step - loss: 11.9742 - acc: 0.2571\n",
      "Epoch 14/25\n",
      "5216/5216 [==============================] - 26s 5ms/step - loss: 11.9742 - acc: 0.2571\n",
      "Epoch 15/25\n",
      "5216/5216 [==============================] - 26s 5ms/step - loss: 11.9742 - acc: 0.2571\n",
      "Epoch 16/25\n",
      "2480/5216 [=============>................] - ETA: 14s - loss: 11.9716 - acc: 0.2573"
     ]
    },
    {
     "ename": "KeyboardInterrupt",
     "evalue": "",
     "output_type": "error",
     "traceback": [
      "\u001b[0;31m---------------------------------------------------------------------------\u001b[0m",
      "\u001b[0;31mKeyboardInterrupt\u001b[0m                         Traceback (most recent call last)",
      "\u001b[0;32m<ipython-input-37-e25b4a372fb5>\u001b[0m in \u001b[0;36m<module>\u001b[0;34m\u001b[0m\n\u001b[1;32m     12\u001b[0m \u001b[0;34m\u001b[0m\u001b[0m\n\u001b[1;32m     13\u001b[0m \u001b[0;31m# Baseline model\u001b[0m\u001b[0;34m\u001b[0m\u001b[0;34m\u001b[0m\u001b[0;34m\u001b[0m\u001b[0m\n\u001b[0;32m---> 14\u001b[0;31m \u001b[0mmodel1\u001b[0m \u001b[0;34m=\u001b[0m \u001b[0mclassifier\u001b[0m\u001b[0;34m.\u001b[0m\u001b[0mfit\u001b[0m\u001b[0;34m(\u001b[0m\u001b[0mtrain_img_unrow\u001b[0m\u001b[0;34m,\u001b[0m \u001b[0mtrain_labels\u001b[0m\u001b[0;34m,\u001b[0m \u001b[0mbatch_size\u001b[0m\u001b[0;34m=\u001b[0m\u001b[0;36m10\u001b[0m\u001b[0;34m,\u001b[0m \u001b[0mepochs\u001b[0m\u001b[0;34m=\u001b[0m\u001b[0;36m25\u001b[0m\u001b[0;34m)\u001b[0m\u001b[0;34m\u001b[0m\u001b[0;34m\u001b[0m\u001b[0m\n\u001b[0m",
      "\u001b[0;32m~/opt/anaconda3/envs/learn-env/lib/python3.6/site-packages/keras/engine/training.py\u001b[0m in \u001b[0;36mfit\u001b[0;34m(self, x, y, batch_size, epochs, verbose, callbacks, validation_split, validation_data, shuffle, class_weight, sample_weight, initial_epoch, steps_per_epoch, validation_steps, **kwargs)\u001b[0m\n\u001b[1;32m   1037\u001b[0m                                         \u001b[0minitial_epoch\u001b[0m\u001b[0;34m=\u001b[0m\u001b[0minitial_epoch\u001b[0m\u001b[0;34m,\u001b[0m\u001b[0;34m\u001b[0m\u001b[0;34m\u001b[0m\u001b[0m\n\u001b[1;32m   1038\u001b[0m                                         \u001b[0msteps_per_epoch\u001b[0m\u001b[0;34m=\u001b[0m\u001b[0msteps_per_epoch\u001b[0m\u001b[0;34m,\u001b[0m\u001b[0;34m\u001b[0m\u001b[0;34m\u001b[0m\u001b[0m\n\u001b[0;32m-> 1039\u001b[0;31m                                         validation_steps=validation_steps)\n\u001b[0m\u001b[1;32m   1040\u001b[0m \u001b[0;34m\u001b[0m\u001b[0m\n\u001b[1;32m   1041\u001b[0m     def evaluate(self, x=None, y=None,\n",
      "\u001b[0;32m~/opt/anaconda3/envs/learn-env/lib/python3.6/site-packages/keras/engine/training_arrays.py\u001b[0m in \u001b[0;36mfit_loop\u001b[0;34m(model, f, ins, out_labels, batch_size, epochs, verbose, callbacks, val_f, val_ins, shuffle, callback_metrics, initial_epoch, steps_per_epoch, validation_steps)\u001b[0m\n\u001b[1;32m    185\u001b[0m                             ins[:-1], batch_ids) + [ins[-1]]\n\u001b[1;32m    186\u001b[0m                     \u001b[0;32melse\u001b[0m\u001b[0;34m:\u001b[0m\u001b[0;34m\u001b[0m\u001b[0;34m\u001b[0m\u001b[0m\n\u001b[0;32m--> 187\u001b[0;31m                         \u001b[0mins_batch\u001b[0m \u001b[0;34m=\u001b[0m \u001b[0mslice_arrays\u001b[0m\u001b[0;34m(\u001b[0m\u001b[0mins\u001b[0m\u001b[0;34m,\u001b[0m \u001b[0mbatch_ids\u001b[0m\u001b[0;34m)\u001b[0m\u001b[0;34m\u001b[0m\u001b[0;34m\u001b[0m\u001b[0m\n\u001b[0m\u001b[1;32m    188\u001b[0m                 \u001b[0;32mexcept\u001b[0m \u001b[0mTypeError\u001b[0m\u001b[0;34m:\u001b[0m\u001b[0;34m\u001b[0m\u001b[0;34m\u001b[0m\u001b[0m\n\u001b[1;32m    189\u001b[0m                     raise TypeError('TypeError while preparing batch. '\n",
      "\u001b[0;32m~/opt/anaconda3/envs/learn-env/lib/python3.6/site-packages/keras/utils/generic_utils.py\u001b[0m in \u001b[0;36mslice_arrays\u001b[0;34m(arrays, start, stop)\u001b[0m\n\u001b[1;32m    524\u001b[0m             \u001b[0;32mif\u001b[0m \u001b[0mhasattr\u001b[0m\u001b[0;34m(\u001b[0m\u001b[0mstart\u001b[0m\u001b[0;34m,\u001b[0m \u001b[0;34m'shape'\u001b[0m\u001b[0;34m)\u001b[0m\u001b[0;34m:\u001b[0m\u001b[0;34m\u001b[0m\u001b[0;34m\u001b[0m\u001b[0m\n\u001b[1;32m    525\u001b[0m                 \u001b[0mstart\u001b[0m \u001b[0;34m=\u001b[0m \u001b[0mstart\u001b[0m\u001b[0;34m.\u001b[0m\u001b[0mtolist\u001b[0m\u001b[0;34m(\u001b[0m\u001b[0;34m)\u001b[0m\u001b[0;34m\u001b[0m\u001b[0;34m\u001b[0m\u001b[0m\n\u001b[0;32m--> 526\u001b[0;31m             \u001b[0;32mreturn\u001b[0m \u001b[0;34m[\u001b[0m\u001b[0;32mNone\u001b[0m \u001b[0;32mif\u001b[0m \u001b[0mx\u001b[0m \u001b[0;32mis\u001b[0m \u001b[0;32mNone\u001b[0m \u001b[0;32melse\u001b[0m \u001b[0mx\u001b[0m\u001b[0;34m[\u001b[0m\u001b[0mstart\u001b[0m\u001b[0;34m]\u001b[0m \u001b[0;32mfor\u001b[0m \u001b[0mx\u001b[0m \u001b[0;32min\u001b[0m \u001b[0marrays\u001b[0m\u001b[0;34m]\u001b[0m\u001b[0;34m\u001b[0m\u001b[0;34m\u001b[0m\u001b[0m\n\u001b[0m\u001b[1;32m    527\u001b[0m         \u001b[0;32melse\u001b[0m\u001b[0;34m:\u001b[0m\u001b[0;34m\u001b[0m\u001b[0;34m\u001b[0m\u001b[0m\n\u001b[1;32m    528\u001b[0m             \u001b[0;32mreturn\u001b[0m \u001b[0;34m[\u001b[0m\u001b[0;32mNone\u001b[0m \u001b[0;32mif\u001b[0m \u001b[0mx\u001b[0m \u001b[0;32mis\u001b[0m \u001b[0;32mNone\u001b[0m \u001b[0;32melse\u001b[0m \u001b[0mx\u001b[0m\u001b[0;34m[\u001b[0m\u001b[0mstart\u001b[0m\u001b[0;34m:\u001b[0m\u001b[0mstop\u001b[0m\u001b[0;34m]\u001b[0m \u001b[0;32mfor\u001b[0m \u001b[0mx\u001b[0m \u001b[0;32min\u001b[0m \u001b[0marrays\u001b[0m\u001b[0;34m]\u001b[0m\u001b[0;34m\u001b[0m\u001b[0;34m\u001b[0m\u001b[0m\n",
      "\u001b[0;32m~/opt/anaconda3/envs/learn-env/lib/python3.6/site-packages/keras/utils/generic_utils.py\u001b[0m in \u001b[0;36m<listcomp>\u001b[0;34m(.0)\u001b[0m\n\u001b[1;32m    524\u001b[0m             \u001b[0;32mif\u001b[0m \u001b[0mhasattr\u001b[0m\u001b[0;34m(\u001b[0m\u001b[0mstart\u001b[0m\u001b[0;34m,\u001b[0m \u001b[0;34m'shape'\u001b[0m\u001b[0;34m)\u001b[0m\u001b[0;34m:\u001b[0m\u001b[0;34m\u001b[0m\u001b[0;34m\u001b[0m\u001b[0m\n\u001b[1;32m    525\u001b[0m                 \u001b[0mstart\u001b[0m \u001b[0;34m=\u001b[0m \u001b[0mstart\u001b[0m\u001b[0;34m.\u001b[0m\u001b[0mtolist\u001b[0m\u001b[0;34m(\u001b[0m\u001b[0;34m)\u001b[0m\u001b[0;34m\u001b[0m\u001b[0;34m\u001b[0m\u001b[0m\n\u001b[0;32m--> 526\u001b[0;31m             \u001b[0;32mreturn\u001b[0m \u001b[0;34m[\u001b[0m\u001b[0;32mNone\u001b[0m \u001b[0;32mif\u001b[0m \u001b[0mx\u001b[0m \u001b[0;32mis\u001b[0m \u001b[0;32mNone\u001b[0m \u001b[0;32melse\u001b[0m \u001b[0mx\u001b[0m\u001b[0;34m[\u001b[0m\u001b[0mstart\u001b[0m\u001b[0;34m]\u001b[0m \u001b[0;32mfor\u001b[0m \u001b[0mx\u001b[0m \u001b[0;32min\u001b[0m \u001b[0marrays\u001b[0m\u001b[0;34m]\u001b[0m\u001b[0;34m\u001b[0m\u001b[0;34m\u001b[0m\u001b[0m\n\u001b[0m\u001b[1;32m    527\u001b[0m         \u001b[0;32melse\u001b[0m\u001b[0;34m:\u001b[0m\u001b[0;34m\u001b[0m\u001b[0;34m\u001b[0m\u001b[0m\n\u001b[1;32m    528\u001b[0m             \u001b[0;32mreturn\u001b[0m \u001b[0;34m[\u001b[0m\u001b[0;32mNone\u001b[0m \u001b[0;32mif\u001b[0m \u001b[0mx\u001b[0m \u001b[0;32mis\u001b[0m \u001b[0;32mNone\u001b[0m \u001b[0;32melse\u001b[0m \u001b[0mx\u001b[0m\u001b[0;34m[\u001b[0m\u001b[0mstart\u001b[0m\u001b[0;34m:\u001b[0m\u001b[0mstop\u001b[0m\u001b[0;34m]\u001b[0m \u001b[0;32mfor\u001b[0m \u001b[0mx\u001b[0m \u001b[0;32min\u001b[0m \u001b[0marrays\u001b[0m\u001b[0;34m]\u001b[0m\u001b[0;34m\u001b[0m\u001b[0;34m\u001b[0m\u001b[0m\n",
      "\u001b[0;31mKeyboardInterrupt\u001b[0m: "
     ]
    }
   ],
   "source": [
    "# Initialize the classifier\n",
    "classifier = Sequential()\n",
    "\n",
    "# Adding the layers\n",
    "classifier.add(Dense(units = 16, activation='relu', input_dim=150528))\n",
    "classifier.add(Dense(units = 8, activation='relu'))\n",
    "classifier.add(Dense(units = 6, activation='relu'))\n",
    "classifier.add(Dense(units = 1, activation='sigmoid'))\n",
    "\n",
    "# Compile the function with optimizer and loss\n",
    "classifier.compile(optimizer='rmsprop', loss='binary_crossentropy', metrics=['accuracy'])\n",
    "\n",
    "# Baseline model \n",
    "model1 = classifier.fit(train_img_unrow, train_labels, batch_size=10, epochs=25)"
   ]
  },
  {
   "cell_type": "code",
   "execution_count": 14,
   "metadata": {
    "scrolled": true
   },
   "outputs": [
    {
     "data": {
      "image/png": "[encoded data removed]",
      "text/plain": [
       "<Figure size 720x864 with 2 Axes>"
      ]
     },
     "metadata": {
      "needs_background": "light"
     },
     "output_type": "display_data"
    }
   ],
   "source": [
    "# Graph model results\n",
    "graph_models(model1)"
   ]
  },
  {
   "cell_type": "markdown",
   "metadata": {},
   "source": [
    "## Results of Baseline Model"
   ]
  },
  {
   "cell_type": "code",
   "execution_count": 15,
   "metadata": {},
   "outputs": [
    {
     "name": "stdout",
     "output_type": "stream",
     "text": [
      "5216/5216 [==============================] - 20s 4ms/step\n",
      "----------\n",
      "Training Loss: 12.0 \n",
      "Training Accuracy: 0.257\n",
      "624/624 [==============================] - 1s 2ms/step\n",
      "----------\n",
      "Test Loss: 10.1 \n",
      "Test Accuracy: 0.375\n"
     ]
    }
   ],
   "source": [
    "# Model evaluation of the training as test data\n",
    "results_train = classifier.evaluate(train_img_unrow, train_labels)\n",
    "print('----------')\n",
    "print(f'Training Loss: {results_train[0]:.3} \\nTraining Accuracy: {results_train[1]:.3}')\n",
    "\n",
    "results_test = classifier.evaluate(test_img_unrow, test_labels)\n",
    "print('----------')\n",
    "print(f'Test Loss: {results_test[0]:.3} \\nTest Accuracy: {results_test[1]:.3}')"
   ]
  },
  {
   "cell_type": "markdown",
   "metadata": {},
   "source": [
    "## The baseline model showed poor results\n",
    "Apparantly a neural network isn't the model that will provide needed results"
   ]
  },
  {
   "cell_type": "markdown",
   "metadata": {},
   "source": [
    "# Weighted Model"
   ]
  },
  {
   "cell_type": "code",
   "execution_count": 16,
   "metadata": {},
   "outputs": [],
   "source": [
    "# Define weights to balance classes\n",
    "weights = {0:3, 1:1}"
   ]
  },
  {
   "cell_type": "code",
   "execution_count": 17,
   "metadata": {},
   "outputs": [
    {
     "name": "stdout",
     "output_type": "stream",
     "text": [
      "Epoch 1/25\n",
      "5216/5216 [==============================] - 30s 6ms/step - loss: 11.9742 - acc: 0.2571\n",
      "Epoch 2/25\n",
      "5216/5216 [==============================] - 30s 6ms/step - loss: 11.9742 - acc: 0.2571\n",
      "Epoch 3/25\n",
      "5216/5216 [==============================] - 31s 6ms/step - loss: 11.9742 - acc: 0.2571\n",
      "Epoch 4/25\n",
      "5216/5216 [==============================] - 31s 6ms/step - loss: 11.9742 - acc: 0.2571\n",
      "Epoch 5/25\n",
      "5216/5216 [==============================] - 31s 6ms/step - loss: 11.9742 - acc: 0.2571\n",
      "Epoch 6/25\n",
      "5216/5216 [==============================] - 31s 6ms/step - loss: 11.9742 - acc: 0.2571\n",
      "Epoch 7/25\n",
      "5216/5216 [==============================] - 33s 6ms/step - loss: 11.9742 - acc: 0.2571\n",
      "Epoch 8/25\n",
      "5216/5216 [==============================] - 33s 6ms/step - loss: 11.9742 - acc: 0.2571\n",
      "Epoch 9/25\n",
      "5216/5216 [==============================] - 33s 6ms/step - loss: 11.9742 - acc: 0.2571\n",
      "Epoch 10/25\n",
      "5216/5216 [==============================] - 32s 6ms/step - loss: 11.9742 - acc: 0.2571\n",
      "Epoch 11/25\n",
      "5216/5216 [==============================] - 33s 6ms/step - loss: 11.9742 - acc: 0.2571\n",
      "Epoch 12/25\n",
      "5216/5216 [==============================] - 31s 6ms/step - loss: 11.9742 - acc: 0.2571\n",
      "Epoch 13/25\n",
      "5216/5216 [==============================] - 35s 7ms/step - loss: 11.9742 - acc: 0.2571\n",
      "Epoch 14/25\n",
      "5216/5216 [==============================] - 33s 6ms/step - loss: 11.9742 - acc: 0.2571\n",
      "Epoch 15/25\n",
      "5216/5216 [==============================] - 34s 7ms/step - loss: 11.9742 - acc: 0.2571\n",
      "Epoch 16/25\n",
      "5216/5216 [==============================] - 33s 6ms/step - loss: 11.9742 - acc: 0.2571\n",
      "Epoch 17/25\n",
      "5216/5216 [==============================] - 32s 6ms/step - loss: 11.9742 - acc: 0.2571\n",
      "Epoch 18/25\n",
      "5216/5216 [==============================] - 34s 7ms/step - loss: 11.9742 - acc: 0.2571\n",
      "Epoch 19/25\n",
      "5216/5216 [==============================] - 32s 6ms/step - loss: 11.9742 - acc: 0.2571\n",
      "Epoch 20/25\n",
      "5216/5216 [==============================] - 31s 6ms/step - loss: 11.9742 - acc: 0.2571\n",
      "Epoch 21/25\n",
      "5216/5216 [==============================] - 34s 6ms/step - loss: 11.9742 - acc: 0.2571\n",
      "Epoch 22/25\n",
      "5216/5216 [==============================] - 30s 6ms/step - loss: 11.9742 - acc: 0.2571\n",
      "Epoch 23/25\n",
      "5216/5216 [==============================] - 30s 6ms/step - loss: 11.9742 - acc: 0.2571\n",
      "Epoch 24/25\n",
      "5216/5216 [==============================] - 31s 6ms/step - loss: 11.9742 - acc: 0.2571\n",
      "Epoch 25/25\n",
      "5216/5216 [==============================] - 30s 6ms/step - loss: 11.9742 - acc: 0.2571\n"
     ]
    }
   ],
   "source": [
    "# Initialize the classifier\n",
    "classifier = Sequential()\n",
    "\n",
    "# Adding the layers\n",
    "classifier.add(Dense(units = 16, activation='relu', input_dim=150528))\n",
    "classifier.add(Dense(units = 8, activation='relu'))\n",
    "classifier.add(Dense(units = 6, activation='relu'))\n",
    "classifier.add(Dense(units = 1, activation='sigmoid'))\n",
    "\n",
    "# Compile the function with optimizer and loss\n",
    "classifier.compile(optimizer='rmsprop', loss='binary_crossentropy', metrics=['accuracy'])\n",
    "\n",
    "# Baseline model \n",
    "model1 = classifier.fit(train_img_unrow, train_labels, class_weight=weights, batch_size=10, epochs=25)"
   ]
  },
  {
   "cell_type": "code",
   "execution_count": null,
   "metadata": {},
   "outputs": [],
   "source": []
  },
  {
   "cell_type": "code",
   "execution_count": null,
   "metadata": {},
   "outputs": [],
   "source": []
  },
  {
   "cell_type": "code",
   "execution_count": null,
   "metadata": {},
   "outputs": [],
   "source": []
  },
  {
   "cell_type": "code",
   "execution_count": null,
   "metadata": {},
   "outputs": [],
   "source": []
  },
  {
   "cell_type": "code",
   "execution_count": 39,
   "metadata": {
    "scrolled": true
   },
   "outputs": [
    {
     "ename": "ValueError",
     "evalue": "Input 0 is incompatible with layer conv2d_27: expected ndim=4, found ndim=3",
     "output_type": "error",
     "traceback": [
      "\u001b[0;31m---------------------------------------------------------------------------\u001b[0m",
      "\u001b[0;31mValueError\u001b[0m                                Traceback (most recent call last)",
      "\u001b[0;32m<ipython-input-39-62982197f2f9>\u001b[0m in \u001b[0;36m<module>\u001b[0;34m\u001b[0m\n\u001b[1;32m     11\u001b[0m                          \u001b[0mDense\u001b[0m\u001b[0;34m(\u001b[0m\u001b[0;36m120\u001b[0m\u001b[0;34m,\u001b[0m \u001b[0mactivation\u001b[0m\u001b[0;34m=\u001b[0m\u001b[0;34m'relu'\u001b[0m\u001b[0;34m)\u001b[0m\u001b[0;34m,\u001b[0m\u001b[0;34m\u001b[0m\u001b[0;34m\u001b[0m\u001b[0m\n\u001b[1;32m     12\u001b[0m                          \u001b[0mDense\u001b[0m\u001b[0;34m(\u001b[0m\u001b[0;36m84\u001b[0m\u001b[0;34m,\u001b[0m \u001b[0mactivation\u001b[0m\u001b[0;34m=\u001b[0m\u001b[0;34m'relu'\u001b[0m\u001b[0;34m)\u001b[0m\u001b[0;34m,\u001b[0m\u001b[0;34m\u001b[0m\u001b[0;34m\u001b[0m\u001b[0m\n\u001b[0;32m---> 13\u001b[0;31m                          \u001b[0mDense\u001b[0m\u001b[0;34m(\u001b[0m\u001b[0;36m10\u001b[0m\u001b[0;34m,\u001b[0m \u001b[0mactivation\u001b[0m\u001b[0;34m=\u001b[0m\u001b[0;34m'softmax'\u001b[0m\u001b[0;34m)\u001b[0m\u001b[0;34m\u001b[0m\u001b[0;34m\u001b[0m\u001b[0m\n\u001b[0m\u001b[1;32m     14\u001b[0m                          ])\n\u001b[1;32m     15\u001b[0m \u001b[0;34m\u001b[0m\u001b[0m\n",
      "\u001b[0;32m~/opt/anaconda3/envs/learn-env/lib/python3.6/site-packages/keras/engine/sequential.py\u001b[0m in \u001b[0;36m__init__\u001b[0;34m(self, layers, name)\u001b[0m\n\u001b[1;32m     91\u001b[0m         \u001b[0;32mif\u001b[0m \u001b[0mlayers\u001b[0m\u001b[0;34m:\u001b[0m\u001b[0;34m\u001b[0m\u001b[0;34m\u001b[0m\u001b[0m\n\u001b[1;32m     92\u001b[0m             \u001b[0;32mfor\u001b[0m \u001b[0mlayer\u001b[0m \u001b[0;32min\u001b[0m \u001b[0mlayers\u001b[0m\u001b[0;34m:\u001b[0m\u001b[0;34m\u001b[0m\u001b[0;34m\u001b[0m\u001b[0m\n\u001b[0;32m---> 93\u001b[0;31m                 \u001b[0mself\u001b[0m\u001b[0;34m.\u001b[0m\u001b[0madd\u001b[0m\u001b[0;34m(\u001b[0m\u001b[0mlayer\u001b[0m\u001b[0;34m)\u001b[0m\u001b[0;34m\u001b[0m\u001b[0;34m\u001b[0m\u001b[0m\n\u001b[0m\u001b[1;32m     94\u001b[0m \u001b[0;34m\u001b[0m\u001b[0m\n\u001b[1;32m     95\u001b[0m     \u001b[0;34m@\u001b[0m\u001b[0mproperty\u001b[0m\u001b[0;34m\u001b[0m\u001b[0;34m\u001b[0m\u001b[0m\n",
      "\u001b[0;32m~/opt/anaconda3/envs/learn-env/lib/python3.6/site-packages/keras/engine/sequential.py\u001b[0m in \u001b[0;36madd\u001b[0;34m(self, layer)\u001b[0m\n\u001b[1;32m    163\u001b[0m                     \u001b[0;31m# and create the node connecting the current layer\u001b[0m\u001b[0;34m\u001b[0m\u001b[0;34m\u001b[0m\u001b[0;34m\u001b[0m\u001b[0m\n\u001b[1;32m    164\u001b[0m                     \u001b[0;31m# to the input layer we just created.\u001b[0m\u001b[0;34m\u001b[0m\u001b[0;34m\u001b[0m\u001b[0;34m\u001b[0m\u001b[0m\n\u001b[0;32m--> 165\u001b[0;31m                     \u001b[0mlayer\u001b[0m\u001b[0;34m(\u001b[0m\u001b[0mx\u001b[0m\u001b[0;34m)\u001b[0m\u001b[0;34m\u001b[0m\u001b[0;34m\u001b[0m\u001b[0m\n\u001b[0m\u001b[1;32m    166\u001b[0m                     \u001b[0mset_inputs\u001b[0m \u001b[0;34m=\u001b[0m \u001b[0;32mTrue\u001b[0m\u001b[0;34m\u001b[0m\u001b[0;34m\u001b[0m\u001b[0m\n\u001b[1;32m    167\u001b[0m             \u001b[0;32melse\u001b[0m\u001b[0;34m:\u001b[0m\u001b[0;34m\u001b[0m\u001b[0;34m\u001b[0m\u001b[0m\n",
      "\u001b[0;32m~/opt/anaconda3/envs/learn-env/lib/python3.6/site-packages/keras/engine/base_layer.py\u001b[0m in \u001b[0;36m__call__\u001b[0;34m(self, inputs, **kwargs)\u001b[0m\n\u001b[1;32m    412\u001b[0m                 \u001b[0;31m# Raise exceptions in case the input is not compatible\u001b[0m\u001b[0;34m\u001b[0m\u001b[0;34m\u001b[0m\u001b[0;34m\u001b[0m\u001b[0m\n\u001b[1;32m    413\u001b[0m                 \u001b[0;31m# with the input_spec specified in the layer constructor.\u001b[0m\u001b[0;34m\u001b[0m\u001b[0;34m\u001b[0m\u001b[0;34m\u001b[0m\u001b[0m\n\u001b[0;32m--> 414\u001b[0;31m                 \u001b[0mself\u001b[0m\u001b[0;34m.\u001b[0m\u001b[0massert_input_compatibility\u001b[0m\u001b[0;34m(\u001b[0m\u001b[0minputs\u001b[0m\u001b[0;34m)\u001b[0m\u001b[0;34m\u001b[0m\u001b[0;34m\u001b[0m\u001b[0m\n\u001b[0m\u001b[1;32m    415\u001b[0m \u001b[0;34m\u001b[0m\u001b[0m\n\u001b[1;32m    416\u001b[0m                 \u001b[0;31m# Collect input shapes to build layer.\u001b[0m\u001b[0;34m\u001b[0m\u001b[0;34m\u001b[0m\u001b[0;34m\u001b[0m\u001b[0m\n",
      "\u001b[0;32m~/opt/anaconda3/envs/learn-env/lib/python3.6/site-packages/keras/engine/base_layer.py\u001b[0m in \u001b[0;36massert_input_compatibility\u001b[0;34m(self, inputs)\u001b[0m\n\u001b[1;32m    309\u001b[0m                                      \u001b[0mself\u001b[0m\u001b[0;34m.\u001b[0m\u001b[0mname\u001b[0m \u001b[0;34m+\u001b[0m \u001b[0;34m': expected ndim='\u001b[0m \u001b[0;34m+\u001b[0m\u001b[0;34m\u001b[0m\u001b[0;34m\u001b[0m\u001b[0m\n\u001b[1;32m    310\u001b[0m                                      \u001b[0mstr\u001b[0m\u001b[0;34m(\u001b[0m\u001b[0mspec\u001b[0m\u001b[0;34m.\u001b[0m\u001b[0mndim\u001b[0m\u001b[0;34m)\u001b[0m \u001b[0;34m+\u001b[0m \u001b[0;34m', found ndim='\u001b[0m \u001b[0;34m+\u001b[0m\u001b[0;34m\u001b[0m\u001b[0;34m\u001b[0m\u001b[0m\n\u001b[0;32m--> 311\u001b[0;31m                                      str(K.ndim(x)))\n\u001b[0m\u001b[1;32m    312\u001b[0m             \u001b[0;32mif\u001b[0m \u001b[0mspec\u001b[0m\u001b[0;34m.\u001b[0m\u001b[0mmax_ndim\u001b[0m \u001b[0;32mis\u001b[0m \u001b[0;32mnot\u001b[0m \u001b[0;32mNone\u001b[0m\u001b[0;34m:\u001b[0m\u001b[0;34m\u001b[0m\u001b[0;34m\u001b[0m\u001b[0m\n\u001b[1;32m    313\u001b[0m                 \u001b[0mndim\u001b[0m \u001b[0;34m=\u001b[0m \u001b[0mK\u001b[0m\u001b[0;34m.\u001b[0m\u001b[0mndim\u001b[0m\u001b[0;34m(\u001b[0m\u001b[0mx\u001b[0m\u001b[0;34m)\u001b[0m\u001b[0;34m\u001b[0m\u001b[0;34m\u001b[0m\u001b[0m\n",
      "\u001b[0;31mValueError\u001b[0m: Input 0 is incompatible with layer conv2d_27: expected ndim=4, found ndim=3"
     ]
    }
   ],
   "source": [
    "# Initialize the classifier\n",
    "#classifier = Sequential()\n",
    "\n",
    "# Use of CNN\n",
    "model2 = Sequential([\n",
    "                         Conv2D(8, kernel_size=(3, 3), activation='relu',padding='same',input_shape=(5216, 150528)),\n",
    "                         MaxPooling2D(pool_size=(2, 2),strides=2),\n",
    "                         Conv2D(16, kernel_size=(5, 5), activation='relu'),\n",
    "                         MaxPooling2D(pool_size=(2, 2),strides=2),\n",
    "                         Flatten(),\n",
    "                         Dense(120, activation='relu'),\n",
    "                         Dense(84, activation='relu'),\n",
    "                         Dense(10, activation='softmax')\n",
    "                         ])\n",
    "\n",
    "# Compile the function with optimizer and loss\n",
    "model2.compile(optimizer='rmsprop', loss='binary_crossentropy', metrics=['accuracy'])\n",
    "\n",
    "# Train the model\n",
    "model2 = classifier.fit(train_img, \n",
    "                        train_labels, \n",
    "                        class_weight=weights,\n",
    "                        epochs=25, \n",
    "                        batch_size=8)\n",
    "\n",
    "# # Compile the function with optimizer and loss\n",
    "# classifier.compile(optimizer='rmsprop', loss='binary_crossentropy', metrics=['accuracy'])\n",
    "\n",
    "# # Baseline model \n",
    "# model2 = classifier.fit(train_img_unrow, train_labels, class_weight=weights, batch_size=10, epochs=15)"
   ]
  },
  {
   "cell_type": "code",
   "execution_count": null,
   "metadata": {},
   "outputs": [],
   "source": []
  },
  {
   "cell_type": "code",
   "execution_count": null,
   "metadata": {},
   "outputs": [],
   "source": []
  },
  {
   "cell_type": "markdown",
   "metadata": {},
   "source": [
    "# Model with dropout layers"
   ]
  },
  {
   "cell_type": "code",
   "execution_count": null,
   "metadata": {},
   "outputs": [],
   "source": [
    "classifier = Sequential()\n",
    "\n",
    "# Implement dropout to the input layer\n",
    "classifier.add(layers.Dense(32, activation='relu', input_dim=196608))\n",
    "classifier.add(layers.Dropout(0.3))\n",
    "classifier.add(layers.Dense(16, activation='relu'))\n",
    "# Implement dropout to the first hidden layer \n",
    "classifier.add(layers.Dropout(0.3))\n",
    "classifier.add(layers.Dense(8, activation='relu'))\n",
    "# Implement dropout to the second hidden layer \n",
    "classifier.add(layers.Dropout(0.3))\n",
    "classifier.add(layers.Dense(1, activation='sigmoid'))\n",
    "# Compile the model\n",
    "classifier.compile(optimizer='rmsprop', \n",
    "                      loss='binary_crossentropy', \n",
    "                      metrics=['accuracy'])\n",
    "\n",
    "# Train the model\n",
    "model3 = classifier.fit(train_img_unrow, \n",
    "                        train_labels, \n",
    "                        class_weight=weights,\n",
    "                        epochs=15, \n",
    "                        batch_size=10)"
   ]
  },
  {
   "cell_type": "code",
   "execution_count": null,
   "metadata": {},
   "outputs": [],
   "source": []
  },
  {
   "cell_type": "code",
   "execution_count": null,
   "metadata": {},
   "outputs": [],
   "source": []
  },
  {
   "cell_type": "code",
   "execution_count": 21,
   "metadata": {},
   "outputs": [
    {
     "name": "stdout",
     "output_type": "stream",
     "text": [
      "(5216, 224, 224, 3) (5216,)\n"
     ]
    }
   ],
   "source": [
    "print(train_images.shape, train_labels.shape)"
   ]
  },
  {
   "cell_type": "markdown",
   "metadata": {},
   "source": [
    "# CNN Model"
   ]
  },
  {
   "cell_type": "code",
   "execution_count": 40,
   "metadata": {},
   "outputs": [
    {
     "name": "stdout",
     "output_type": "stream",
     "text": [
      "Epoch 1/50\n",
      "5216/5216 [==============================] - 95s 18ms/step - loss: 12.2869 - acc: 0.7431\n",
      "Epoch 2/50\n",
      "5216/5216 [==============================] - 94s 18ms/step - loss: 12.2961 - acc: 0.7429\n",
      "Epoch 3/50\n",
      "5216/5216 [==============================] - 100s 19ms/step - loss: 12.2961 - acc: 0.7429\n",
      "Epoch 4/50\n",
      "5216/5216 [==============================] - 97s 19ms/step - loss: 12.2961 - acc: 0.7429\n",
      "Epoch 5/50\n",
      "5216/5216 [==============================] - 95s 18ms/step - loss: 12.2873 - acc: 0.7431\n",
      "Epoch 6/50\n",
      "5216/5216 [==============================] - 101s 19ms/step - loss: 12.2961 - acc: 0.7429\n",
      "Epoch 7/50\n",
      "5216/5216 [==============================] - 96s 18ms/step - loss: 2.8976 - acc: 0.3623\n",
      "Epoch 8/50\n",
      "5216/5216 [==============================] - 95s 18ms/step - loss: 1.0068 - acc: 0.3426\n",
      "Epoch 9/50\n",
      "5216/5216 [==============================] - 101s 19ms/step - loss: 0.8604 - acc: 0.6411\n",
      "Epoch 10/50\n",
      "5216/5216 [==============================] - 99s 19ms/step - loss: 0.7662 - acc: 0.8269\n",
      "Epoch 11/50\n",
      "5216/5216 [==============================] - 99s 19ms/step - loss: 0.7022 - acc: 0.8470\n",
      "Epoch 12/50\n",
      "5216/5216 [==============================] - 104s 20ms/step - loss: 0.6378 - acc: 0.8579\n",
      "Epoch 13/50\n",
      "5216/5216 [==============================] - 99s 19ms/step - loss: 0.6114 - acc: 0.8648\n",
      "Epoch 14/50\n",
      "5216/5216 [==============================] - 96s 18ms/step - loss: 0.5670 - acc: 0.8808\n",
      "Epoch 15/50\n",
      "5216/5216 [==============================] - 96s 18ms/step - loss: 0.5517 - acc: 0.8886\n",
      "Epoch 16/50\n",
      "5216/5216 [==============================] - 95s 18ms/step - loss: 0.5132 - acc: 0.8890\n",
      "Epoch 17/50\n",
      "5216/5216 [==============================] - 99s 19ms/step - loss: 0.5163 - acc: 0.8913\n",
      "Epoch 18/50\n",
      "5216/5216 [==============================] - 99s 19ms/step - loss: 0.5043 - acc: 0.8949\n",
      "Epoch 19/50\n",
      "5216/5216 [==============================] - 97s 19ms/step - loss: 0.4813 - acc: 0.8976\n",
      "Epoch 20/50\n",
      "5216/5216 [==============================] - 98s 19ms/step - loss: 0.4879 - acc: 0.8969\n",
      "Epoch 21/50\n",
      "5216/5216 [==============================] - 99s 19ms/step - loss: 0.4713 - acc: 0.9018\n",
      "Epoch 22/50\n",
      "5216/5216 [==============================] - 96s 18ms/step - loss: 0.4601 - acc: 0.9076\n",
      "Epoch 23/50\n",
      "5216/5216 [==============================] - 96s 18ms/step - loss: 0.4543 - acc: 0.9103\n",
      "Epoch 24/50\n",
      "5216/5216 [==============================] - 96s 18ms/step - loss: 0.4591 - acc: 0.9049\n",
      "Epoch 25/50\n",
      "5216/5216 [==============================] - 97s 19ms/step - loss: 0.4356 - acc: 0.9072\n",
      "Epoch 26/50\n",
      "5216/5216 [==============================] - 97s 19ms/step - loss: 0.4400 - acc: 0.9126\n",
      "Epoch 27/50\n",
      "5216/5216 [==============================] - 97s 19ms/step - loss: 0.4047 - acc: 0.9179\n",
      "Epoch 28/50\n",
      "5216/5216 [==============================] - 97s 19ms/step - loss: 0.4392 - acc: 0.9172\n",
      "Epoch 29/50\n",
      "5216/5216 [==============================] - 98s 19ms/step - loss: 0.4225 - acc: 0.9158\n",
      "Epoch 30/50\n",
      "5216/5216 [==============================] - 98s 19ms/step - loss: 0.4400 - acc: 0.9155\n",
      "Epoch 31/50\n",
      "5216/5216 [==============================] - 99s 19ms/step - loss: 0.4215 - acc: 0.9160\n",
      "Epoch 32/50\n",
      "5216/5216 [==============================] - 99s 19ms/step - loss: 0.4264 - acc: 0.9193\n",
      "Epoch 33/50\n",
      "5216/5216 [==============================] - 97s 19ms/step - loss: 0.4285 - acc: 0.9181\n",
      "Epoch 34/50\n",
      "5216/5216 [==============================] - 97s 19ms/step - loss: 0.4193 - acc: 0.9218\n",
      "Epoch 35/50\n",
      "5216/5216 [==============================] - 96s 18ms/step - loss: 0.3797 - acc: 0.9247\n",
      "Epoch 36/50\n",
      "5216/5216 [==============================] - 96s 18ms/step - loss: 0.3825 - acc: 0.9281\n",
      "Epoch 37/50\n",
      "5216/5216 [==============================] - 98s 19ms/step - loss: 0.3788 - acc: 0.9281\n",
      "Epoch 38/50\n",
      "5216/5216 [==============================] - 96s 18ms/step - loss: 0.3873 - acc: 0.9273\n",
      "Epoch 39/50\n",
      "5216/5216 [==============================] - 98s 19ms/step - loss: 0.4034 - acc: 0.9268\n",
      "Epoch 40/50\n",
      "5216/5216 [==============================] - 95s 18ms/step - loss: 0.4134 - acc: 0.9227\n",
      "Epoch 41/50\n",
      "5216/5216 [==============================] - 97s 19ms/step - loss: 0.3775 - acc: 0.9306\n",
      "Epoch 42/50\n",
      "5216/5216 [==============================] - 97s 19ms/step - loss: 0.3582 - acc: 0.9354\n",
      "Epoch 43/50\n",
      "5216/5216 [==============================] - 96s 19ms/step - loss: 0.3899 - acc: 0.9281\n",
      "Epoch 44/50\n",
      "5216/5216 [==============================] - 96s 18ms/step - loss: 0.3742 - acc: 0.9300\n",
      "Epoch 45/50\n",
      "5216/5216 [==============================] - 96s 18ms/step - loss: 0.3853 - acc: 0.9304\n",
      "Epoch 46/50\n",
      "5216/5216 [==============================] - 97s 19ms/step - loss: 0.3853 - acc: 0.9275\n",
      "Epoch 47/50\n",
      "5216/5216 [==============================] - 98s 19ms/step - loss: 0.3754 - acc: 0.9323\n",
      "Epoch 48/50\n",
      "5216/5216 [==============================] - 96s 18ms/step - loss: 0.3657 - acc: 0.9354\n",
      "Epoch 49/50\n",
      "5216/5216 [==============================] - 98s 19ms/step - loss: 0.3690 - acc: 0.9342\n",
      "Epoch 50/50\n",
      "5216/5216 [==============================] - 97s 19ms/step - loss: 0.3656 - acc: 0.9358\n"
     ]
    }
   ],
   "source": [
    "# add layers with Conv2D, MaxPolling2D, and Flattening\n",
    "classifier = Sequential([\n",
    "                         Conv2D(8, kernel_size=(4, 4), activation='relu', padding='same',input_shape=train_images.shape[1:]),\n",
    "                         MaxPooling2D(pool_size=(2, 2),strides=2),\n",
    "                         Conv2D(4, kernel_size=(5, 5), activation='relu'),\n",
    "                         MaxPooling2D(pool_size=(2, 2),strides=2),\n",
    "                         Dropout(0.3),\n",
    "                         Flatten(),\n",
    "                         Dense(16, activation='relu'),\n",
    "                         Dropout(0.3),\n",
    "                         Dense(8, activation='relu'),\n",
    "                         Dense(1, activation='sigmoid')\n",
    "                         ])\n",
    "# Compile the model\n",
    "classifier.compile(optimizer='adam', \n",
    "                   loss='binary_crossentropy', \n",
    "                   metrics=['accuracy'])\n",
    "\n",
    "# Train the model\n",
    "model4 = classifier.fit(train_images, \n",
    "                        train_labels, \n",
    "                        class_weight=weights,\n",
    "                        epochs=50, \n",
    "                        batch_size=10)"
   ]
  },
  {
   "cell_type": "markdown",
   "metadata": {},
   "source": [
    "## Model Results"
   ]
  },
  {
   "cell_type": "code",
   "execution_count": null,
   "metadata": {},
   "outputs": [],
   "source": [
    "# Graph model results\n",
    "graph_models(model4)"
   ]
  },
  {
   "cell_type": "code",
   "execution_count": null,
   "metadata": {},
   "outputs": [],
   "source": [
    "# test predictions\n",
    "test_preds = classifier.predict_classes(test_images)\n",
    "# convert to a 1D array\n",
    "test_preds = test_preds[:, 0]\n",
    "\n",
    "# accuracy: (tp + tn) / (p + n)\n",
    "accuracy = accuracy_score(test_labels, test_preds)\n",
    "print('Accuracy: \\t%.2f' % accuracy)\n",
    "# precision tp / (tp + fp)\n",
    "precision = precision_score(test_labels, test_preds)\n",
    "print('Precision: \\t%.2f' % precision)\n",
    "# recall: tp / (tp + fn)\n",
    "recall = recall_score(test_labels, test_preds)\n",
    "print('Recall: \\t%.2f' % recall)\n",
    "# f1: 2 tp / (2 tp + fp + fn)\n",
    "f1 = f1_score(test_labels, test_preds)\n",
    "print('F1 score: \\t%.2f' % f1)"
   ]
  },
  {
   "cell_type": "code",
   "execution_count": null,
   "metadata": {},
   "outputs": [],
   "source": []
  }
 ],
 "metadata": {
  "kernelspec": {
   "display_name": "Python [conda env:learn-env] *",
   "language": "python",
   "name": "conda-env-learn-env-py"
  },
  "language_info": {
   "codemirror_mode": {
    "name": "ipython",
    "version": 3
   },
   "file_extension": ".py",
   "mimetype": "text/x-python",
   "name": "python",
   "nbconvert_exporter": "python",
   "pygments_lexer": "ipython3",
   "version": "3.6.9"
  },
  "toc": {
   "base_numbering": 1,
   "nav_menu": {},
   "number_sections": false,
   "sideBar": true,
   "skip_h1_title": false,
   "title_cell": "Table of Contents",
   "title_sidebar": "Contents",
   "toc_cell": false,
   "toc_position": {},
   "toc_section_display": true,
   "toc_window_display": true
  }
 },
 "nbformat": 4,
 "nbformat_minor": 2
}
