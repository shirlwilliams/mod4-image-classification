{
  "nbformat": 4,
  "nbformat_minor": 0,
  "metadata": {
    "colab": {
      "name": "pneumonia_dataset.ipynb",
      "provenance": [],
      "collapsed_sections": [],
      "toc_visible": true,
      "mount_file_id": "1X2Mf6ZQoomf_nZ3RpjFx5ykten4o3S52",
      "authorship_tag": "ABX9TyPvxTKlh8KePPgl24ReAgUb",
      "include_colab_link": true
    },
    "kernelspec": {
      "name": "python3",
      "display_name": "Python 3"
    }
  },
  "cells": [
    {
      "cell_type": "markdown",
      "metadata": {
        "id": "view-in-github",
        "colab_type": "text"
      },
      "source": [
        "<a href=\"https://colab.research.google.com/github/shirlwilliams/mod4-image-classification/blob/master/pneumonia_dataset.ipynb\" target=\"_parent\"><img src=\"https://colab.research.google.com/assets/colab-badge.svg\" alt=\"Open In Colab\"/></a>"
      ]
    },
    {
      "cell_type": "markdown",
      "metadata": {
        "id": "-BqpPV48F4Yd",
        "colab_type": "text"
      },
      "source": [
        "# Image Classification with Deep Learning - Pneumonia\n",
        "Module 4 Project\n",
        "\n",
        "Objective: Given a chest x-ray image of pediatric patients, build a model that can classify whether a given patient has pneumonia.\n",
        "\n",
        "Goal: Build a deep neural network trained on a large dataset for classification on a non-trivial task."
      ]
    },
    {
      "cell_type": "markdown",
      "metadata": {
        "id": "dn8aC_UbF4Fm",
        "colab_type": "text"
      },
      "source": [
        "# The Data\n",
        "Imports and the dataset from Kaggle."
      ]
    },
    {
      "cell_type": "code",
      "metadata": {
        "id": "P9fLsw2lQxG2",
        "colab_type": "code",
        "colab": {
          "base_uri": "https://localhost:8080/",
          "height": 88
        },
        "outputId": "884121a0-def0-4690-a03c-8aefac420001"
      },
      "source": [
        "# Necessary libraries and classes\n",
        "import numpy as np\n",
        "import pandas as pd\n",
        "import seaborn as sns\n",
        "import matplotlib.pyplot as plt\n",
        "import glob\n",
        "import os\n",
        "from google.colab import drive\n",
        "from keras.preprocessing.image import ImageDataGenerator, array_to_img, img_to_array, load_img\n",
        "from keras.models import Sequential, load_model\n",
        "from keras import initializers\n",
        "from keras import layers\n",
        "from keras import regularizers\n",
        "from keras.layers import Dense, Conv2D, MaxPool2D, Flatten, MaxPooling2D, Dropout\n",
        "from keras import optimizers\n",
        "from keras.optimizers import SGD\n",
        "from keras.callbacks import EarlyStopping, ModelCheckpoint\n",
        "from sklearn.preprocessing import StandardScaler \n",
        "from sklearn.metrics import mean_squared_error, classification_report\n",
        "from sklearn.model_selection import train_test_split\n",
        "from sklearn.metrics import accuracy_score, confusion_matrix, recall_score, precision_score, f1_score\n",
        "import warnings \n",
        "warnings.filterwarnings('ignore')"
      ],
      "execution_count": 1,
      "outputs": [
        {
          "output_type": "stream",
          "text": [
            "/usr/local/lib/python3.6/dist-packages/statsmodels/tools/_testing.py:19: FutureWarning: pandas.util.testing is deprecated. Use the functions in the public API at pandas.testing instead.\n",
            "  import pandas.util.testing as tm\n",
            "Using TensorFlow backend.\n"
          ],
          "name": "stderr"
        }
      ]
    },
    {
      "cell_type": "markdown",
      "metadata": {
        "colab_type": "text",
        "id": "-2as9f7KHxHm"
      },
      "source": [
        "# Uploading the Data\n",
        "First connect to Google Drive"
      ]
    },
    {
      "cell_type": "code",
      "metadata": {
        "id": "8AvYBA3VIEQQ",
        "colab_type": "code",
        "outputId": "1a1090d6-1d36-4ecb-f510-e186a4c3dd35",
        "colab": {
          "base_uri": "https://localhost:8080/",
          "height": 122
        }
      },
      "source": [
        "drive.mount('/content/gdrive')"
      ],
      "execution_count": 2,
      "outputs": [
        {
          "output_type": "stream",
          "text": [
            "Go to this URL in a browser: https://accounts.google.com/o/oauth2/auth?client_id=947318989803-6bn6qk8qdgf4n4g3pfee6491hc0brc4i.apps.googleusercontent.com&redirect_uri=urn%3aietf%3awg%3aoauth%3a2.0%3aoob&response_type=code&scope=email%20https%3a%2f%2fwww.googleapis.com%2fauth%2fdocs.test%20https%3a%2f%2fwww.googleapis.com%2fauth%2fdrive%20https%3a%2f%2fwww.googleapis.com%2fauth%2fdrive.photos.readonly%20https%3a%2f%2fwww.googleapis.com%2fauth%2fpeopleapi.readonly\n",
            "\n",
            "Enter your authorization code:\n",
            "··········\n",
            "Mounted at /content/gdrive\n"
          ],
          "name": "stdout"
        }
      ]
    },
    {
      "cell_type": "markdown",
      "metadata": {
        "colab_type": "text",
        "id": "ysXjG_zrHxHR"
      },
      "source": [
        "## Upload images, reshape, and create labels\n",
        "In the interest of time I switched the train and test sets. The test set was relatively balanced and the train set was horribly imbalanced."
      ]
    },
    {
      "cell_type": "code",
      "metadata": {
        "id": "2i635hY1XbPN",
        "colab_type": "code",
        "outputId": "86eed2ef-5b82-4e53-8190-d19b5b160cbf",
        "colab": {
          "base_uri": "https://localhost:8080/",
          "height": 51
        }
      },
      "source": [
        "# Directory path\n",
        "train_data_dir = '/content/gdrive/My Drive/Datasets/chest_xray/train'\n",
        "test_data_dir = '/content/gdrive/My Drive/Datasets/chest_xray/test'\n",
        "\n",
        "# Get all the data the pneumonia train directory (1218 images), and reshape them\n",
        "train_generator = ImageDataGenerator(\n",
        "    shear_range=0.2,\n",
        "    zoom_range=0.2,\n",
        "    horizontal_flip=True,\n",
        "    ).flow_from_directory(\n",
        "        train_data_dir, \n",
        "        target_size=(64, 64), \n",
        "        batch_size=1218,\n",
        "        class_mode='binary',\n",
        "        shuffle=True,\n",
        "        seed=42)\n",
        "\n",
        "# Get all the data in the test directory (624 images), and reshape them\n",
        "test_generator = ImageDataGenerator().flow_from_directory(\n",
        "        test_data_dir, \n",
        "        target_size=(64, 64), \n",
        "        batch_size=624,\n",
        "        class_mode='binary',\n",
        "        shuffle=False)\n",
        "\n",
        "# Create the datasets\n",
        "train_images, train_labels = next(train_generator)\n",
        "test_images, test_labels = next(test_generator)\n",
        "\n"
      ],
      "execution_count": 3,
      "outputs": [
        {
          "output_type": "stream",
          "text": [
            "Found 1218 images belonging to 2 classes.\n",
            "Found 624 images belonging to 2 classes.\n"
          ],
          "name": "stdout"
        }
      ]
    },
    {
      "cell_type": "code",
      "metadata": {
        "id": "G2YMdJzx2N9A",
        "colab_type": "code",
        "outputId": "aefd833f-6059-49aa-b30d-b6777a5d1ee1",
        "colab": {
          "base_uri": "https://localhost:8080/",
          "height": 34
        }
      },
      "source": [
        "train_images.shape"
      ],
      "execution_count": 4,
      "outputs": [
        {
          "output_type": "execute_result",
          "data": {
            "text/plain": [
              "(1218, 64, 64, 3)"
            ]
          },
          "metadata": {
            "tags": []
          },
          "execution_count": 4
        }
      ]
    },
    {
      "cell_type": "markdown",
      "metadata": {
        "id": "ndvXrG1u8NKp",
        "colab_type": "text"
      },
      "source": [
        "### Investigate the number of images\n",
        "The number of normal and pneumonia images fro each type in train and test folders show a significant imbalance in the train data. The normal train values only represent 6.89% of the overall train data.\n"
      ]
    },
    {
      "cell_type": "code",
      "metadata": {
        "id": "bmRbmx1ZyAmI",
        "colab_type": "code",
        "outputId": "9cecd8da-392c-4bef-d6fc-d0a962b074d9",
        "colab": {
          "base_uri": "https://localhost:8080/",
          "height": 34
        }
      },
      "source": [
        "normal_train = glob.glob('/content/gdrive/My Drive/Datasets/chest_xray/train/NORMAL/*.jpeg')\n",
        "pneu_train = glob.glob('/content/gdrive/My Drive/Datasets/chest_xray/train/PNEUMONIA/*.jpeg')\n",
        "normal_test = glob.glob('/content/gdrive/My Drive/Datasets/chest_xray/test/NORMAL/*.jpeg')\n",
        "pneu_test = glob.glob('/content/gdrive/My Drive/Datasets/chest_xray/test/PNEUMONIA/*.jpeg')\n",
        "\n",
        "print(len(normal_train), len(pneu_train), len(normal_test), len(pneu_test))"
      ],
      "execution_count": 5,
      "outputs": [
        {
          "output_type": "stream",
          "text": [
            "84 1134 234 390\n"
          ],
          "name": "stdout"
        }
      ]
    },
    {
      "cell_type": "code",
      "metadata": {
        "id": "hIGpQiQNyAq6",
        "colab_type": "code",
        "outputId": "5cc38edd-ec9d-4673-d8ff-bab2e4d9d0aa",
        "colab": {
          "base_uri": "https://localhost:8080/",
          "height": 34
        }
      },
      "source": [
        "print(len(train_images), len(train_labels), len(test_images), len(test_labels))"
      ],
      "execution_count": 6,
      "outputs": [
        {
          "output_type": "stream",
          "text": [
            "1218 1218 624 624\n"
          ],
          "name": "stdout"
        }
      ]
    },
    {
      "cell_type": "code",
      "metadata": {
        "colab_type": "code",
        "outputId": "edbbc151-e339-4959-d8e5-67c89b8daaaa",
        "id": "RY5PLe4SHxG7",
        "colab": {
          "base_uri": "https://localhost:8080/",
          "height": 51
        }
      },
      "source": [
        "# Transform each matrix to 2D\n",
        "train_img_unrow = train_images.reshape(-1, 1218).T\n",
        "test_img_unrow = test_images.reshape(-1, 624).T\n",
        "\n",
        "print(np.shape(train_img_unrow))\n",
        "print(np.shape(test_img_unrow))"
      ],
      "execution_count": 7,
      "outputs": [
        {
          "output_type": "stream",
          "text": [
            "(1218, 12288)\n",
            "(624, 12288)\n"
          ],
          "name": "stdout"
        }
      ]
    },
    {
      "cell_type": "code",
      "metadata": {
        "colab_type": "code",
        "outputId": "ce6dc923-b839-4e2c-d74d-3df7633ee12e",
        "id": "1tOwj2G9HxGq",
        "colab": {
          "base_uri": "https://localhost:8080/",
          "height": 34
        }
      },
      "source": [
        "# Check labels\n",
        "train_generator.class_indices"
      ],
      "execution_count": 8,
      "outputs": [
        {
          "output_type": "execute_result",
          "data": {
            "text/plain": [
              "{'NORMAL': 0, 'PNEUMONIA': 1}"
            ]
          },
          "metadata": {
            "tags": []
          },
          "execution_count": 8
        }
      ]
    },
    {
      "cell_type": "markdown",
      "metadata": {
        "id": "D1owzRqlqJnM",
        "colab_type": "text"
      },
      "source": [
        "# Creating the Baseline Model\n",
        "Out of the box, no considerations"
      ]
    },
    {
      "cell_type": "code",
      "metadata": {
        "id": "EJjCLaPJp80D",
        "colab_type": "code",
        "colab": {}
      },
      "source": [
        "# Initialize the classifier\n",
        "classifier = Sequential()\n",
        "\n",
        "# Adding the layers\n",
        "classifier.add(Dense(units = 16, activation='relu', input_dim=12288))\n",
        "classifier.add(Dense(units = 8, activation='relu'))\n",
        "classifier.add(Dense(units = 6, activation='relu'))\n",
        "classifier.add(Dense(units = 1, activation='sigmoid'))"
      ],
      "execution_count": 0,
      "outputs": []
    },
    {
      "cell_type": "code",
      "metadata": {
        "id": "yaCQc4IxtXSI",
        "colab_type": "code",
        "colab": {}
      },
      "source": [
        "# Compile the function with optimizer and loss\n",
        "classifier.compile(optimizer='rmsprop', loss='binary_crossentropy', metrics=['accuracy'])"
      ],
      "execution_count": 0,
      "outputs": []
    },
    {
      "cell_type": "markdown",
      "metadata": {
        "id": "o79JBLlwd2tm",
        "colab_type": "text"
      },
      "source": [
        "# Create Baseline Model\n",
        "Use weights to balance classes. Use a neural network."
      ]
    },
    {
      "cell_type": "code",
      "metadata": {
        "id": "mktzpitemlU2",
        "colab_type": "code",
        "colab": {}
      },
      "source": [
        "# Define weights to balance classes\n",
        "weights = {0:13, 1:1}"
      ],
      "execution_count": 0,
      "outputs": []
    },
    {
      "cell_type": "code",
      "metadata": {
        "id": "uQmTBwNav73c",
        "colab_type": "code",
        "outputId": "6c6b972e-2a1c-4ffe-842b-4f65c31278f0",
        "colab": {
          "base_uri": "https://localhost:8080/",
          "height": 527
        }
      },
      "source": [
        "# Baseline model (lowered to 15 epochs after initial runs as evidence of overfitting)\n",
        "model1 = classifier.fit(train_img_unrow, train_labels, batch_size=10, epochs=15)"
      ],
      "execution_count": 12,
      "outputs": [
        {
          "output_type": "stream",
          "text": [
            "Epoch 1/15\n",
            "1218/1218 [==============================] - 1s 857us/step - loss: 10.3543 - accuracy: 0.7011\n",
            "Epoch 2/15\n",
            "1218/1218 [==============================] - 1s 591us/step - loss: 0.6195 - accuracy: 0.9310\n",
            "Epoch 3/15\n",
            "1218/1218 [==============================] - 1s 595us/step - loss: 0.5761 - accuracy: 0.9310\n",
            "Epoch 4/15\n",
            "1218/1218 [==============================] - 1s 595us/step - loss: 0.5350 - accuracy: 0.9310\n",
            "Epoch 5/15\n",
            "1218/1218 [==============================] - 1s 597us/step - loss: 0.4984 - accuracy: 0.9310\n",
            "Epoch 6/15\n",
            "1218/1218 [==============================] - 1s 600us/step - loss: 0.4655 - accuracy: 0.9310\n",
            "Epoch 7/15\n",
            "1218/1218 [==============================] - 1s 591us/step - loss: 0.4352 - accuracy: 0.9310\n",
            "Epoch 8/15\n",
            "1218/1218 [==============================] - 1s 579us/step - loss: 0.4083 - accuracy: 0.9310\n",
            "Epoch 9/15\n",
            "1218/1218 [==============================] - 1s 615us/step - loss: 0.3841 - accuracy: 0.9310\n",
            "Epoch 10/15\n",
            "1218/1218 [==============================] - 1s 583us/step - loss: 0.3625 - accuracy: 0.9310\n",
            "Epoch 11/15\n",
            "1218/1218 [==============================] - 1s 588us/step - loss: 0.3440 - accuracy: 0.9310\n",
            "Epoch 12/15\n",
            "1218/1218 [==============================] - 1s 590us/step - loss: 0.3277 - accuracy: 0.9310\n",
            "Epoch 13/15\n",
            "1218/1218 [==============================] - 1s 583us/step - loss: 0.3140 - accuracy: 0.9310\n",
            "Epoch 14/15\n",
            "1218/1218 [==============================] - 1s 617us/step - loss: 0.3025 - accuracy: 0.9310\n",
            "Epoch 15/15\n",
            "1218/1218 [==============================] - 1s 609us/step - loss: 0.2926 - accuracy: 0.9310\n"
          ],
          "name": "stdout"
        }
      ]
    },
    {
      "cell_type": "markdown",
      "metadata": {
        "id": "C1S21B9Velpv",
        "colab_type": "text"
      },
      "source": [
        " ## Results of the Baseline Model"
      ]
    },
    {
      "cell_type": "code",
      "metadata": {
        "id": "bmrh8D7a58D2",
        "colab_type": "code",
        "outputId": "3b40d272-642d-4f9e-d0ce-cd72db5b0ecd",
        "colab": {
          "base_uri": "https://localhost:8080/",
          "height": 730
        }
      },
      "source": [
        "# model1 details\n",
        "model1_dict = model1.history\n",
        "model1_acc_values = model1_dict['accuracy'] \n",
        "model1_loss_values = model1_dict['loss']\n",
        "\n",
        "# Plot the accuracy and loss for these models\n",
        "fig1, ax = plt.subplots(2, figsize=(10, 12))\n",
        "# fig1.suptitle('Training and Validation Accuracy')\n",
        "\n",
        "epochs = range(1, len(model1_acc_values) + 1)\n",
        "\n",
        "# Training Accuracy\n",
        "ax[0].plot(epochs, model1_acc_values, 'b', label='Model1 Training Accuracy')\n",
        "ax[0].set_title('Training Accuracy and Loss')\n",
        "ax[0].set_xlabel('Epochs')\n",
        "ax[0].set_ylabel('Accuracy')\n",
        "ax[0].legend();\n",
        "\n",
        "# Training Loss\n",
        "ax[1].plot(epochs, model1_loss_values, 'g', label='Model1 Training Loss')\n",
        "# ax[1].set_title('Validation Accuracy')\n",
        "ax[1].set_xlabel('Epochs')\n",
        "ax[1].set_ylabel('Loss')\n",
        "ax[1].legend();\n",
        "plt.show()"
      ],
      "execution_count": 13,
      "outputs": [
        {
          "output_type": "display_data",
          "data": {
            "image/png": "[encoded data removed]",
            "text/plain": [
              "<Figure size 720x864 with 2 Axes>"
            ]
          },
          "metadata": {
            "tags": [],
            "needs_background": "light"
          }
        }
      ]
    },
    {
      "cell_type": "markdown",
      "metadata": {
        "id": "tZPK6zNTd1yT",
        "colab_type": "text"
      },
      "source": [
        "### Model Metrics"
      ]
    },
    {
      "cell_type": "code",
      "metadata": {
        "id": "xh6q-tiTSNg6",
        "colab_type": "code",
        "outputId": "47a160c8-3235-4b57-d777-9544f0e6a644",
        "colab": {
          "base_uri": "https://localhost:8080/",
          "height": 85
        }
      },
      "source": [
        "pred_train= classifier.predict(train_img_unrow)\n",
        "train_scores = classifier.evaluate(train_img_unrow, train_labels, verbose=0)\n",
        "print('Training Accuracy: {:.2f} \\nTraining Error: {:.2f}'.format(train_scores[1], 1 - train_scores[1]))   \n",
        " \n",
        "pred_test= classifier.predict(test_img_unrow)\n",
        "test_scores = classifier.evaluate(test_img_unrow, test_labels, verbose=0)\n",
        "print('Test Accuracy: {:.2f} \\nTest Error: {:.2f}'.format(test_scores[1], 1 - test_scores[1]))"
      ],
      "execution_count": 16,
      "outputs": [
        {
          "output_type": "stream",
          "text": [
            "Training Accuracy: 0.93 \n",
            "Training Error: 0.07\n",
            "Test Accuracy: 0.62 \n",
            "Test Error: 0.38\n"
          ],
          "name": "stdout"
        }
      ]
    },
    {
      "cell_type": "code",
      "metadata": {
        "id": "z4LSifUeHhDI",
        "colab_type": "code",
        "outputId": "9a580309-5e29-44f6-b338-4d0e97497d8c",
        "colab": {
          "base_uri": "https://localhost:8080/",
          "height": 153
        }
      },
      "source": [
        "# Model evaluation of the training as test data\n",
        "results_train = classifier.evaluate(train_img_unrow, train_labels)\n",
        "print('----------')\n",
        "print(f'Training Loss: {results_train[0]:.3} \\nTraining Accuracy: {results_train[1]:.3}')\n",
        "\n",
        "results_test = classifier.evaluate(test_img_unrow, test_labels)\n",
        "print('----------')\n",
        "print(f'Test Loss: {results_test[0]:.3} \\nTest Accuracy: {results_test[1]:.3}')"
      ],
      "execution_count": 17,
      "outputs": [
        {
          "output_type": "stream",
          "text": [
            "1218/1218 [==============================] - 0s 180us/step\n",
            "----------\n",
            "Training Loss: 0.288 \n",
            "Training Accuracy: 0.931\n",
            "624/624 [==============================] - 0s 125us/step\n",
            "----------\n",
            "Test Loss: 0.798 \n",
            "Test Accuracy: 0.625\n"
          ],
          "name": "stdout"
        }
      ]
    },
    {
      "cell_type": "markdown",
      "metadata": {
        "id": "j6wpg1THKyDa",
        "colab_type": "text"
      },
      "source": [
        "### Confusion Matrix "
      ]
    },
    {
      "cell_type": "code",
      "metadata": {
        "id": "RbVT4tRjqLZJ",
        "colab_type": "code",
        "outputId": "39c5401f-2e76-4b3e-db04-17a5a7407628",
        "colab": {
          "base_uri": "https://localhost:8080/",
          "height": 51
        }
      },
      "source": [
        "# Confusion Matrix\n",
        "cm = confusion_matrix(test_labels, np.round(pred_test))\n",
        "cm"
      ],
      "execution_count": 18,
      "outputs": [
        {
          "output_type": "execute_result",
          "data": {
            "text/plain": [
              "array([[  0, 234],\n",
              "       [  0, 390]])"
            ]
          },
          "metadata": {
            "tags": []
          },
          "execution_count": 18
        }
      ]
    },
    {
      "cell_type": "code",
      "metadata": {
        "id": "dZqt6_eFtlgs",
        "colab_type": "code",
        "outputId": "a7d6cde1-3e7a-4698-fc2c-b74c6ca83498",
        "colab": {
          "base_uri": "https://localhost:8080/",
          "height": 281
        }
      },
      "source": [
        "fig_cmb = sns.heatmap(cm, cmap='Pastel1', annot=True, fmt='d', square=True)\n",
        "plt.autoscale\n",
        "plt.title('Confusion Matrix')\n",
        "plt.show();"
      ],
      "execution_count": 19,
      "outputs": [
        {
          "output_type": "display_data",
          "data": {
            "image/png": "[encoded data removed]",
            "text/plain": [
              "<Figure size 432x288 with 2 Axes>"
            ]
          },
          "metadata": {
            "tags": [],
            "needs_background": "light"
          }
        }
      ]
    },
    {
      "cell_type": "markdown",
      "metadata": {
        "id": "faV_QIvVUJlR",
        "colab_type": "text"
      },
      "source": [
        "## Baseline Model Summary\n",
        "The results show how the imbalance of the normal and pneumonia images skew the results creating a worthless mode counting all images as pneumonia. A basic neural network isn't sufficient as a model. "
      ]
    },
    {
      "cell_type": "markdown",
      "metadata": {
        "id": "hO1nwVPufCup",
        "colab_type": "text"
      },
      "source": [
        "# Second Model\n",
        "First adjust layers and batch size."
      ]
    },
    {
      "cell_type": "code",
      "metadata": {
        "id": "GG_x4xdvfAol",
        "colab_type": "code",
        "colab": {}
      },
      "source": [
        "# New model with addes layers\n",
        "classifier = Sequential()\n",
        "classifier.add(Dense(units = 64, activation='relu', input_dim=12288))\n",
        "classifier.add(Dense(units = 32, activation='relu'))\n",
        "classifier.add(Dense(units = 16, activation='relu'))\n",
        "classifier.add(Dense(units = 8, activation='relu'))\n",
        "classifier.add(Dense(units = 1, activation='sigmoid'))\n",
        "classifier.compile(optimizer='rmsprop', loss='binary_crossentropy', metrics=['accuracy'])"
      ],
      "execution_count": 0,
      "outputs": []
    },
    {
      "cell_type": "code",
      "metadata": {
        "id": "bD6ks5vWfArm",
        "colab_type": "code",
        "outputId": "d16b690d-2157-4d62-eed1-4bfe71ac8514",
        "colab": {
          "base_uri": "https://localhost:8080/",
          "height": 527
        }
      },
      "source": [
        "# Second model \n",
        "model2 = classifier.fit(train_img_unrow, train_labels, class_weight=weights, batch_size=20, epochs=15)"
      ],
      "execution_count": 29,
      "outputs": [
        {
          "output_type": "stream",
          "text": [
            "Epoch 1/15\n",
            "1218/1218 [==============================] - 1s 773us/step - loss: 16.5986 - accuracy: 0.4589\n",
            "Epoch 2/15\n",
            "1218/1218 [==============================] - 1s 704us/step - loss: 1.2668 - accuracy: 0.9310\n",
            "Epoch 3/15\n",
            "1218/1218 [==============================] - 1s 696us/step - loss: 1.2668 - accuracy: 0.9310\n",
            "Epoch 4/15\n",
            "1218/1218 [==============================] - 1s 672us/step - loss: 1.2668 - accuracy: 0.9310\n",
            "Epoch 5/15\n",
            "1218/1218 [==============================] - 1s 682us/step - loss: 1.2668 - accuracy: 0.9310\n",
            "Epoch 6/15\n",
            "1218/1218 [==============================] - 1s 685us/step - loss: 1.2667 - accuracy: 0.9310\n",
            "Epoch 7/15\n",
            "1218/1218 [==============================] - 1s 695us/step - loss: 1.2667 - accuracy: 0.9310\n",
            "Epoch 8/15\n",
            "1218/1218 [==============================] - 1s 675us/step - loss: 1.2670 - accuracy: 0.9310\n",
            "Epoch 9/15\n",
            "1218/1218 [==============================] - 1s 698us/step - loss: 1.2666 - accuracy: 0.9310\n",
            "Epoch 10/15\n",
            "1218/1218 [==============================] - 1s 677us/step - loss: 1.2667 - accuracy: 0.9310\n",
            "Epoch 11/15\n",
            "1218/1218 [==============================] - 1s 700us/step - loss: 1.2668 - accuracy: 0.9310\n",
            "Epoch 12/15\n",
            "1218/1218 [==============================] - 1s 678us/step - loss: 1.2666 - accuracy: 0.9310\n",
            "Epoch 13/15\n",
            "1218/1218 [==============================] - 1s 701us/step - loss: 1.2667 - accuracy: 0.9310\n",
            "Epoch 14/15\n",
            "1218/1218 [==============================] - 1s 677us/step - loss: 1.2667 - accuracy: 0.9310\n",
            "Epoch 15/15\n",
            "1218/1218 [==============================] - 1s 719us/step - loss: 1.2666 - accuracy: 0.9310\n"
          ],
          "name": "stdout"
        }
      ]
    },
    {
      "cell_type": "markdown",
      "metadata": {
        "id": "Fa47gK3asGLr",
        "colab_type": "text"
      },
      "source": [
        "## Results of the 2nd Model"
      ]
    },
    {
      "cell_type": "code",
      "metadata": {
        "id": "DHerJ1XSfAuk",
        "colab_type": "code",
        "outputId": "35ac1ead-c9b4-4774-9107-c6ba57ab2b06",
        "colab": {
          "base_uri": "https://localhost:8080/",
          "height": 730
        }
      },
      "source": [
        "# model1 details\n",
        "model2_dict = model2.history\n",
        "model2_acc_values = model2_dict['accuracy'] \n",
        "model2_loss_values = model2_dict['loss']\n",
        "\n",
        "# Plot the accuracy and loss for these models\n",
        "fig1, ax = plt.subplots(2, figsize=(10, 12))\n",
        "# fig1.suptitle('Training and Validation Accuracy')\n",
        "\n",
        "epochs = range(1, len(model2_acc_values) + 1)\n",
        "\n",
        "# Training Accuracy\n",
        "ax[0].plot(epochs, model2_acc_values, 'b', label='Model2 Training Accuracy')\n",
        "ax[0].set_title('Training Accuracy and Loss')\n",
        "ax[0].set_xlabel('Epochs')\n",
        "ax[0].set_ylabel('Accuracy')\n",
        "ax[0].legend();\n",
        "\n",
        "# Training Loss\n",
        "ax[1].plot(epochs, model2_loss_values, 'g', label='Model2 Training Loss')\n",
        "# ax[1].set_title('Validation Accuracy')\n",
        "ax[1].set_xlabel('Epochs')\n",
        "ax[1].set_ylabel('Loss')\n",
        "ax[1].legend();\n",
        "plt.show()"
      ],
      "execution_count": 30,
      "outputs": [
        {
          "output_type": "display_data",
          "data": {
            "image/png": "[encoded data removed]",
            "text/plain": [
              "<Figure size 720x864 with 2 Axes>"
            ]
          },
          "metadata": {
            "tags": [],
            "needs_background": "light"
          }
        }
      ]
    },
    {
      "cell_type": "markdown",
      "metadata": {
        "id": "VbAwaPxUddPC",
        "colab_type": "text"
      },
      "source": [
        "### Model Metrics"
      ]
    },
    {
      "cell_type": "code",
      "metadata": {
        "id": "ztG94niTfAxW",
        "colab_type": "code",
        "outputId": "503f0e61-c895-4e0b-c6db-f4380e059e4e",
        "colab": {
          "base_uri": "https://localhost:8080/",
          "height": 85
        }
      },
      "source": [
        "pred_train2= classifier.predict(train_img_unrow)\n",
        "train_scores2 = classifier.evaluate(train_img_unrow, train_labels, verbose=0)\n",
        "print('Accuracy on training data: {:.2f} \\nError on training data: {:.2f}'.format(train_scores2[1], 1 - train_scores2[1]))   \n",
        " \n",
        "pred_test2= classifier.predict(test_img_unrow)\n",
        "test_scores2 = classifier.evaluate(test_img_unrow, test_labels, verbose=0)\n",
        "print('Accuracy on test data: {:.2f} \\nError on test data: {:.2f}'.format(test_scores2[1], 1 - test_scores2[1]))"
      ],
      "execution_count": 31,
      "outputs": [
        {
          "output_type": "stream",
          "text": [
            "Accuracy on training data: 0.93 \n",
            "Error on training data: 0.07\n",
            "Accuracy on test data: 0.62 \n",
            "Error on test data: 0.38\n"
          ],
          "name": "stdout"
        }
      ]
    },
    {
      "cell_type": "markdown",
      "metadata": {
        "id": "WEMec2mNdomi",
        "colab_type": "text"
      },
      "source": [
        "### Confusion Matrix"
      ]
    },
    {
      "cell_type": "code",
      "metadata": {
        "id": "ftPTSUehtShw",
        "colab_type": "code",
        "outputId": "618b2b7d-4f05-4865-9e8b-3b7178e2615e",
        "colab": {
          "base_uri": "https://localhost:8080/",
          "height": 315
        }
      },
      "source": [
        "# Confusion Matrix\n",
        "cm = confusion_matrix(test_labels, np.round(pred_test))\n",
        "print(cm)\n",
        "\n",
        "fig_cmb = sns.heatmap(cm, cmap='Pastel1', annot=True, fmt='d', square=True)\n",
        "plt.autoscale\n",
        "plt.title('Confusion Matrix')\n",
        "plt.show();"
      ],
      "execution_count": 32,
      "outputs": [
        {
          "output_type": "stream",
          "text": [
            "[[  0 234]\n",
            " [  0 390]]\n"
          ],
          "name": "stdout"
        },
        {
          "output_type": "display_data",
          "data": {
            "image/png": "[encoded data removed]",
            "text/plain": [
              "<Figure size 432x288 with 2 Axes>"
            ]
          },
          "metadata": {
            "tags": [],
            "needs_background": "light"
          }
        }
      ]
    },
    {
      "cell_type": "markdown",
      "metadata": {
        "id": "nyNa_3mROroG",
        "colab_type": "text"
      },
      "source": [
        "## Second Model Summary\n",
        "This model further illustrates the how class imbalance prohibits construction of a good model. I should try to use SMOTE for balancing, however, I discovered convolutional neural networks to be far superior in image classification. The remaining models will focus on convolutional neural networks."
      ]
    },
    {
      "cell_type": "markdown",
      "metadata": {
        "id": "1nXYZkCkM3ou",
        "colab_type": "text"
      },
      "source": [
        "# Third Model\n",
        "Used a Convolutional Neural Network with Conv2D, MaxPooling2D, and Flatten."
      ]
    },
    {
      "cell_type": "code",
      "metadata": {
        "id": "q8KTqu5mtSvV",
        "colab_type": "code",
        "outputId": "3ab7311d-21ac-4836-ac8a-6710e4bf92ee",
        "colab": {
          "base_uri": "https://localhost:8080/",
          "height": 527
        }
      },
      "source": [
        "# Third model using a CNN\n",
        "classifier = Sequential([\n",
        "                         Conv2D(8, kernel_size=(5, 5), activation='relu', padding='same',input_shape=train_images.shape[1:]),\n",
        "                         MaxPooling2D(pool_size=(2, 2),strides=2),\n",
        "                         Conv2D(4, kernel_size=(5, 5), activation='relu'),\n",
        "                         MaxPooling2D(pool_size=(2, 2),strides=2),\n",
        "                         Flatten(),\n",
        "                         Dense(16, activation='relu'),\n",
        "                         Dense(8, activation='relu'),\n",
        "                         Dense(1, activation='sigmoid')\n",
        "                         ])\n",
        "# Compile the model\n",
        "classifier.compile(optimizer='adam', \n",
        "                   loss='binary_crossentropy', \n",
        "                   metrics=['accuracy'])\n",
        "\n",
        "# Train the model\n",
        "model3 = classifier.fit(train_images, \n",
        "                        train_labels, \n",
        "                        class_weight=weights,\n",
        "                        epochs=15, \n",
        "                        batch_size=10)"
      ],
      "execution_count": 33,
      "outputs": [
        {
          "output_type": "stream",
          "text": [
            "Epoch 1/15\n",
            "1218/1218 [==============================] - 5s 4ms/step - loss: 5.8741 - accuracy: 0.5213\n",
            "Epoch 2/15\n",
            "1218/1218 [==============================] - 4s 4ms/step - loss: 1.2675 - accuracy: 0.0714\n",
            "Epoch 3/15\n",
            "1218/1218 [==============================] - 4s 4ms/step - loss: 1.2701 - accuracy: 0.0805\n",
            "Epoch 4/15\n",
            "1218/1218 [==============================] - 5s 4ms/step - loss: 1.2675 - accuracy: 0.0690\n",
            "Epoch 5/15\n",
            "1218/1218 [==============================] - 4s 4ms/step - loss: 1.2676 - accuracy: 0.0690\n",
            "Epoch 6/15\n",
            "1218/1218 [==============================] - 5s 4ms/step - loss: 1.2673 - accuracy: 0.0690\n",
            "Epoch 7/15\n",
            "1218/1218 [==============================] - 5s 4ms/step - loss: 1.2672 - accuracy: 0.0690\n",
            "Epoch 8/15\n",
            "1218/1218 [==============================] - 4s 4ms/step - loss: 1.2672 - accuracy: 0.0690\n",
            "Epoch 9/15\n",
            "1218/1218 [==============================] - 4s 4ms/step - loss: 1.2670 - accuracy: 0.3448\n",
            "Epoch 10/15\n",
            "1218/1218 [==============================] - 4s 4ms/step - loss: 1.2670 - accuracy: 0.8309\n",
            "Epoch 11/15\n",
            "1218/1218 [==============================] - 4s 4ms/step - loss: 1.2669 - accuracy: 0.4877\n",
            "Epoch 12/15\n",
            "1218/1218 [==============================] - 5s 4ms/step - loss: 1.2668 - accuracy: 0.9310\n",
            "Epoch 13/15\n",
            "1218/1218 [==============================] - 5s 4ms/step - loss: 1.2669 - accuracy: 0.9310\n",
            "Epoch 14/15\n",
            "1218/1218 [==============================] - 5s 4ms/step - loss: 1.2668 - accuracy: 0.9310\n",
            "Epoch 15/15\n",
            "1218/1218 [==============================] - 5s 4ms/step - loss: 1.2668 - accuracy: 0.9310\n"
          ],
          "name": "stdout"
        }
      ]
    },
    {
      "cell_type": "markdown",
      "metadata": {
        "id": "EMOo7Bj3TDnL",
        "colab_type": "text"
      },
      "source": [
        "## Results of third model"
      ]
    },
    {
      "cell_type": "code",
      "metadata": {
        "id": "_Nf43A_RfA0v",
        "colab_type": "code",
        "outputId": "18c7fa94-d9d7-488f-e20e-b138c8edd803",
        "colab": {
          "base_uri": "https://localhost:8080/",
          "height": 730
        }
      },
      "source": [
        "# model details\n",
        "model3_dict = model3.history\n",
        "model3_acc_values = model3_dict['accuracy'] \n",
        "model3_loss_values = model3_dict['loss']\n",
        "\n",
        "# Plot the accuracy and loss for these models\n",
        "fig1, ax = plt.subplots(2, figsize=(10, 12))\n",
        "\n",
        "epochs = range(1, len(model3_acc_values) + 1)\n",
        "\n",
        "# Training Accuracy\n",
        "ax[0].plot(epochs, model3_acc_values, 'b', label='Model3 Training Accuracy')\n",
        "ax[0].set_title('Training Accuracy and Loss')\n",
        "ax[0].set_xlabel('Epochs')\n",
        "ax[0].set_ylabel('Accuracy')\n",
        "ax[0].legend();\n",
        "\n",
        "# Training Loss\n",
        "ax[1].plot(epochs, model3_loss_values, 'g', label='Model3 Training Loss')\n",
        "ax[1].set_xlabel('Epochs')\n",
        "ax[1].set_ylabel('Loss')\n",
        "ax[1].legend();\n",
        "plt.show()"
      ],
      "execution_count": 34,
      "outputs": [
        {
          "output_type": "display_data",
          "data": {
            "image/png": "[encoded data removed]",
            "text/plain": [
              "<Figure size 720x864 with 2 Axes>"
            ]
          },
          "metadata": {
            "tags": [],
            "needs_background": "light"
          }
        }
      ]
    },
    {
      "cell_type": "code",
      "metadata": {
        "id": "R02347Fxl7rz",
        "colab_type": "code",
        "outputId": "cbe6e66d-cc69-4cea-93bf-414150a48c28",
        "colab": {
          "base_uri": "https://localhost:8080/",
          "height": 85
        }
      },
      "source": [
        "pred_train3= classifier.predict(train_images)\n",
        "train_scores3 = classifier.evaluate(train_images, train_labels, verbose=0)\n",
        "print('Accuracy on training data: {:.2f} \\nError on training data: {:.2f}'.format(train_scores3[1], 1 - train_scores3[1]))   \n",
        " \n",
        "pred_test3= classifier.predict(test_images)\n",
        "test_scores3 = classifier.evaluate(test_images, test_labels, verbose=0)\n",
        "print('Accuracy on test data: {:.2f} \\nError on test data: {:.2f}'.format(test_scores3[1], 1 - test_scores3[1]))\n"
      ],
      "execution_count": 38,
      "outputs": [
        {
          "output_type": "stream",
          "text": [
            "Accuracy on training data: 0.93 \n",
            "Error on training data: 0.07\n",
            "Accuracy on test data: 0.62 \n",
            "Error on test data: 0.38\n"
          ],
          "name": "stdout"
        }
      ]
    },
    {
      "cell_type": "code",
      "metadata": {
        "id": "2RjaV6o7Tg_f",
        "colab_type": "code",
        "outputId": "02c66395-28e8-41b7-d8f6-8698ac257a0e",
        "colab": {
          "base_uri": "https://localhost:8080/",
          "height": 315
        }
      },
      "source": [
        "# Confusion Matrix\n",
        "cm = confusion_matrix(test_labels, np.round(pred_test3))\n",
        "print(cm)\n",
        "\n",
        "fig_cmb = sns.heatmap(cm, cmap='Pastel1', annot=True, fmt='d', square=True)\n",
        "plt.autoscale\n",
        "plt.title('Confusion Matrix')\n",
        "plt.show();"
      ],
      "execution_count": 39,
      "outputs": [
        {
          "output_type": "stream",
          "text": [
            "[[  0 234]\n",
            " [  0 390]]\n"
          ],
          "name": "stdout"
        },
        {
          "output_type": "display_data",
          "data": {
            "image/png": "[encoded data removed]",
            "text/plain": [
              "<Figure size 432x288 with 2 Axes>"
            ]
          },
          "metadata": {
            "tags": [],
            "needs_background": "light"
          }
        }
      ]
    },
    {
      "cell_type": "markdown",
      "metadata": {
        "id": "aDT2kI3lThOu",
        "colab_type": "text"
      },
      "source": [
        "## Third Model Summary\n",
        "This model has the same issues."
      ]
    },
    {
      "cell_type": "markdown",
      "metadata": {
        "id": "E1e7ENsIdQyt",
        "colab_type": "text"
      },
      "source": [
        "# Fourth Model\n",
        "Try another CNN model with different values."
      ]
    },
    {
      "cell_type": "code",
      "metadata": {
        "id": "ykD8e_fJFqx5",
        "colab_type": "code",
        "colab": {}
      },
      "source": [
        ""
      ],
      "execution_count": 0,
      "outputs": []
    },
    {
      "cell_type": "code",
      "metadata": {
        "id": "zyD1d1kG25bZ",
        "colab_type": "code",
        "outputId": "45b14a61-88e9-44c6-f94c-0c915615f25b",
        "colab": {
          "base_uri": "https://localhost:8080/",
          "height": 34
        }
      },
      "source": [
        "print(train_images.shape, train_labels.shape)"
      ],
      "execution_count": 0,
      "outputs": [
        {
          "output_type": "stream",
          "text": [
            "(624, 64, 64, 3) (624,)\n"
          ],
          "name": "stdout"
        }
      ]
    },
    {
      "cell_type": "code",
      "metadata": {
        "id": "A5pr4uLWdRSf",
        "colab_type": "code",
        "outputId": "dc760409-9b2b-4ad9-fe1d-0a4a1d0da937",
        "colab": {
          "base_uri": "https://localhost:8080/",
          "height": 527
        }
      },
      "source": [
        "# Use of CNN\n",
        "classifier = Sequential([\n",
        "                         Conv2D(8, kernel_size=(4, 4), activation='relu', padding='same',input_shape=train_images.shape[1:]),\n",
        "                         MaxPooling2D(pool_size=(2, 2),strides=2),\n",
        "                         Conv2D(4, kernel_size=(5, 5), activation='relu'),\n",
        "                         MaxPooling2D(pool_size=(2, 2),strides=2),\n",
        "                         Flatten(),\n",
        "                         Dense(16, activation='relu'),\n",
        "                         Dense(8, activation='relu'),\n",
        "                         Dense(1, activation='sigmoid')\n",
        "                         ])\n",
        "# Compile the model\n",
        "classifier.compile(optimizer='adam', \n",
        "                   loss='binary_crossentropy', \n",
        "                   metrics=['accuracy'])\n",
        "\n",
        "# Train the model\n",
        "model4 = classifier.fit(train_images, \n",
        "                        train_labels, \n",
        "                        class_weight=weights,\n",
        "                        epochs=15, \n",
        "                        batch_size=8)"
      ],
      "execution_count": 0,
      "outputs": [
        {
          "output_type": "stream",
          "text": [
            "Epoch 1/15\n",
            "1218/1218 [==============================] - 4s 3ms/step - loss: 1.1362 - accuracy: 0.7471\n",
            "Epoch 2/15\n",
            "1218/1218 [==============================] - 4s 3ms/step - loss: 0.4848 - accuracy: 0.8966\n",
            "Epoch 3/15\n",
            "1218/1218 [==============================] - 4s 3ms/step - loss: 0.2752 - accuracy: 0.9450\n",
            "Epoch 4/15\n",
            "1218/1218 [==============================] - 4s 3ms/step - loss: 0.1670 - accuracy: 0.9672\n",
            "Epoch 5/15\n",
            "1218/1218 [==============================] - 4s 3ms/step - loss: 0.0828 - accuracy: 0.9828\n",
            "Epoch 6/15\n",
            "1218/1218 [==============================] - 4s 3ms/step - loss: 0.0753 - accuracy: 0.9819\n",
            "Epoch 7/15\n",
            "1218/1218 [==============================] - 4s 3ms/step - loss: 0.0697 - accuracy: 0.9844\n",
            "Epoch 8/15\n",
            "1218/1218 [==============================] - 4s 3ms/step - loss: 0.0391 - accuracy: 0.9918\n",
            "Epoch 9/15\n",
            "1218/1218 [==============================] - 4s 3ms/step - loss: 0.2948 - accuracy: 0.9507\n",
            "Epoch 10/15\n",
            "1218/1218 [==============================] - 4s 3ms/step - loss: 0.5591 - accuracy: 0.9146\n",
            "Epoch 11/15\n",
            "1218/1218 [==============================] - 4s 3ms/step - loss: 0.1864 - accuracy: 0.9548\n",
            "Epoch 12/15\n",
            "1218/1218 [==============================] - 4s 3ms/step - loss: 0.1038 - accuracy: 0.9737\n",
            "Epoch 13/15\n",
            "1218/1218 [==============================] - 4s 3ms/step - loss: 0.0695 - accuracy: 0.9778\n",
            "Epoch 14/15\n",
            "1218/1218 [==============================] - 4s 3ms/step - loss: 0.0481 - accuracy: 0.9893\n",
            "Epoch 15/15\n",
            "1218/1218 [==============================] - 4s 3ms/step - loss: 0.0207 - accuracy: 0.9943\n"
          ],
          "name": "stdout"
        }
      ]
    },
    {
      "cell_type": "markdown",
      "metadata": {
        "id": "IUUZxWT4htJI",
        "colab_type": "text"
      },
      "source": [
        "## Results of Fourth Model"
      ]
    },
    {
      "cell_type": "code",
      "metadata": {
        "id": "AXxvq86LdSIX",
        "colab_type": "code",
        "outputId": "3a4c1de6-ee21-4441-c4e2-72b08cb17021",
        "colab": {
          "base_uri": "https://localhost:8080/",
          "height": 730
        }
      },
      "source": [
        "# model details\n",
        "model4_dict = model4.history\n",
        "model4_acc_values = model4_dict['accuracy'] \n",
        "model4_loss_values = model4_dict['loss']\n",
        "\n",
        "# Plot the accuracy and loss for these models\n",
        "fig1, ax = plt.subplots(2, figsize=(10, 12))\n",
        "\n",
        "epochs = range(1, len(model4_acc_values) + 1)\n",
        "\n",
        "# Training Accuracy\n",
        "ax[0].plot(epochs, model4_acc_values, 'b', label='Model4 Training Accuracy')\n",
        "ax[0].set_title('Training Accuracy and Loss')\n",
        "ax[0].set_xlabel('Epochs')\n",
        "ax[0].set_ylabel('Accuracy')\n",
        "ax[0].legend();\n",
        "\n",
        "# Training Loss\n",
        "ax[1].plot(epochs, model4_loss_values, 'g', label='Model4 Training Loss')\n",
        "ax[1].set_xlabel('Epochs')\n",
        "ax[1].set_ylabel('Loss')\n",
        "ax[1].legend();\n",
        "plt.show()"
      ],
      "execution_count": 0,
      "outputs": [
        {
          "output_type": "display_data",
          "data": {
            "image/png": "[encoded data removed]",
            "text/plain": [
              "<Figure size 720x864 with 2 Axes>"
            ]
          },
          "metadata": {
            "tags": [],
            "needs_background": "light"
          }
        }
      ]
    },
    {
      "cell_type": "markdown",
      "metadata": {
        "id": "HF0sw4DCxSUs",
        "colab_type": "text"
      },
      "source": [
        "### Model Metrics"
      ]
    },
    {
      "cell_type": "code",
      "metadata": {
        "id": "V1WOiL6BdSWu",
        "colab_type": "code",
        "outputId": "0955ef5e-b71d-4edd-cdca-786f7a2be8b1",
        "colab": {
          "base_uri": "https://localhost:8080/",
          "height": 102
        }
      },
      "source": [
        "pred_train4= classifier.predict(train_images)\n",
        "train_scores4 = classifier.evaluate(train_images, train_labels, verbose=0)\n",
        "print('Accuracy on training data: \\t{:.2f} \\nError on training data: \\t{:.2f}'.format(train_scores4[1], 1 - train_scores4[1]))   \n",
        "print()\n",
        "pred_test4= classifier.predict(test_images)\n",
        "test_scores4 = classifier.evaluate(test_images, test_labels, verbose=0)\n",
        "print('Accuracy on test data: \\t\\t{:.2f} \\nError on test data: \\t\\t{:.2f}'.format(test_scores4[1], 1 - test_scores4[1]))\n"
      ],
      "execution_count": 0,
      "outputs": [
        {
          "output_type": "stream",
          "text": [
            "Accuracy on training data: \t0.96 \n",
            "Error on training data: \t0.04\n",
            "\n",
            "Accuracy on test data: \t\t0.74 \n",
            "Error on test data: \t\t0.26\n"
          ],
          "name": "stdout"
        }
      ]
    },
    {
      "cell_type": "code",
      "metadata": {
        "id": "sVYenxiyhyUy",
        "colab_type": "code",
        "outputId": "2b5816d2-63de-496e-b1d0-9a529e70fdf8",
        "colab": {
          "base_uri": "https://localhost:8080/",
          "height": 85
        }
      },
      "source": [
        "# test predictions\n",
        "test_preds = classifier.predict_classes(test_images)\n",
        "# convert to a 1D array\n",
        "test_preds = test_preds[:, 0]\n",
        "\n",
        "# accuracy: (tp + tn) / (p + n)\n",
        "accuracy = accuracy_score(test_labels, test_preds)\n",
        "print('Accuracy: \\t%.2f' % accuracy)\n",
        "# precision tp / (tp + fp)\n",
        "precision = precision_score(test_labels, test_preds)\n",
        "print('Precision: \\t%.2f' % precision)\n",
        "# recall: tp / (tp + fn)\n",
        "recall = recall_score(test_labels, test_preds)\n",
        "print('Recall: \\t%.2f' % recall)\n",
        "# f1: 2 tp / (2 tp + fp + fn)\n",
        "f1 = f1_score(test_labels, test_preds)\n",
        "print('F1 score: \\t%.2f' % f1)\n"
      ],
      "execution_count": 0,
      "outputs": [
        {
          "output_type": "stream",
          "text": [
            "Accuracy: \t0.74\n",
            "Precision: \t0.71\n",
            "Recall: \t0.98\n",
            "F1 score: \t0.83\n"
          ],
          "name": "stdout"
        }
      ]
    },
    {
      "cell_type": "code",
      "metadata": {
        "id": "xZI4Ee8UiHkr",
        "colab_type": "code",
        "outputId": "3e1a5a25-187e-4040-a10b-7eed81a3b819",
        "colab": {
          "base_uri": "https://localhost:8080/",
          "height": 315
        }
      },
      "source": [
        "# Confusion Matrix\n",
        "cm = confusion_matrix(test_labels, np.round(pred_test4))\n",
        "print(cm)\n",
        "\n",
        "fig_cmb = sns.heatmap(cm, cmap='Pastel1', annot=True, fmt='d', square=True)\n",
        "plt.autoscale\n",
        "plt.title('Confusion Matrix')\n",
        "plt.show();"
      ],
      "execution_count": 0,
      "outputs": [
        {
          "output_type": "stream",
          "text": [
            "[[ 81 153]\n",
            " [  8 382]]\n"
          ],
          "name": "stdout"
        },
        {
          "output_type": "display_data",
          "data": {
            "image/png": "[encoded data removed]",
            "text/plain": [
              "<Figure size 432x288 with 2 Axes>"
            ]
          },
          "metadata": {
            "tags": [],
            "needs_background": "light"
          }
        }
      ]
    },
    {
      "cell_type": "markdown",
      "metadata": {
        "id": "IEZQjms7jNXp",
        "colab_type": "text"
      },
      "source": [
        "### Fourth Model Summary\n",
        "Voila - what a nice model"
      ]
    },
    {
      "cell_type": "markdown",
      "metadata": {
        "id": "PwXUI5cemVBx",
        "colab_type": "text"
      },
      "source": [
        "# Fifth Model\n",
        "I will apply dropout to certain layers of the CNN."
      ]
    },
    {
      "cell_type": "code",
      "metadata": {
        "id": "DLK0X9l0jLSt",
        "colab_type": "code",
        "outputId": "a9eff88b-991c-4c73-bbd6-975c2c3481c9",
        "colab": {
          "base_uri": "https://localhost:8080/",
          "height": 1717
        }
      },
      "source": [
        "# Use of CNN\n",
        "classifier = Sequential([\n",
        "                         Conv2D(8, kernel_size=(4, 4), activation='relu', padding='same',input_shape=train_images.shape[1:]),\n",
        "                         MaxPooling2D(pool_size=(2, 2),strides=2),\n",
        "                         Conv2D(4, kernel_size=(5, 5), activation='relu'),\n",
        "                         MaxPooling2D(pool_size=(2, 2),strides=2),\n",
        "                         Dropout(0.3),\n",
        "                         Flatten(),\n",
        "                         Dense(16, activation='relu'),\n",
        "                         Dropout(0.3),\n",
        "                         Dense(8, activation='relu'),\n",
        "                         Dense(1, activation='sigmoid')\n",
        "                         ])\n",
        "# Compile the model\n",
        "classifier.compile(optimizer='adam', \n",
        "                   loss='binary_crossentropy', \n",
        "                   metrics=['accuracy'])\n",
        "\n",
        "# Train the model\n",
        "model5 = classifier.fit(train_images,\n",
        "                        train_labels, \n",
        "                        class_weight=weights,\n",
        "                        epochs=50,\n",
        "                        batch_size=10)"
      ],
      "execution_count": 0,
      "outputs": [
        {
          "output_type": "stream",
          "text": [
            "Epoch 1/50\n",
            "1218/1218 [==============================] - 4s 3ms/step - loss: 8.4173 - accuracy: 0.5764\n",
            "Epoch 2/50\n",
            "1218/1218 [==============================] - 4s 3ms/step - loss: 1.3086 - accuracy: 0.5854\n",
            "Epoch 3/50\n",
            "1218/1218 [==============================] - 4s 3ms/step - loss: 1.3819 - accuracy: 0.5107\n",
            "Epoch 4/50\n",
            "1218/1218 [==============================] - 4s 3ms/step - loss: 1.1862 - accuracy: 0.6905\n",
            "Epoch 5/50\n",
            "1218/1218 [==============================] - 4s 3ms/step - loss: 0.9566 - accuracy: 0.7085\n",
            "Epoch 6/50\n",
            "1218/1218 [==============================] - 4s 3ms/step - loss: 0.8386 - accuracy: 0.8383\n",
            "Epoch 7/50\n",
            "1218/1218 [==============================] - 4s 3ms/step - loss: 0.6782 - accuracy: 0.8342\n",
            "Epoch 8/50\n",
            "1218/1218 [==============================] - 4s 3ms/step - loss: 0.7008 - accuracy: 0.8834\n",
            "Epoch 9/50\n",
            "1218/1218 [==============================] - 4s 3ms/step - loss: 0.6636 - accuracy: 0.8580\n",
            "Epoch 10/50\n",
            "1218/1218 [==============================] - 4s 3ms/step - loss: 0.7497 - accuracy: 0.8588\n",
            "Epoch 11/50\n",
            "1218/1218 [==============================] - 4s 3ms/step - loss: 0.9607 - accuracy: 0.8514\n",
            "Epoch 12/50\n",
            "1218/1218 [==============================] - 4s 3ms/step - loss: 0.8929 - accuracy: 0.8440\n",
            "Epoch 13/50\n",
            "1218/1218 [==============================] - 4s 3ms/step - loss: 0.6813 - accuracy: 0.8251\n",
            "Epoch 14/50\n",
            "1218/1218 [==============================] - 4s 3ms/step - loss: 0.5464 - accuracy: 0.8571\n",
            "Epoch 15/50\n",
            "1218/1218 [==============================] - 4s 3ms/step - loss: 0.8602 - accuracy: 0.8415\n",
            "Epoch 16/50\n",
            "1218/1218 [==============================] - 4s 3ms/step - loss: 0.7129 - accuracy: 0.8916\n",
            "Epoch 17/50\n",
            "1218/1218 [==============================] - 4s 3ms/step - loss: 0.6719 - accuracy: 0.8588\n",
            "Epoch 18/50\n",
            "1218/1218 [==============================] - 4s 3ms/step - loss: 0.7857 - accuracy: 0.9007\n",
            "Epoch 19/50\n",
            "1218/1218 [==============================] - 4s 3ms/step - loss: 0.5323 - accuracy: 0.9327\n",
            "Epoch 20/50\n",
            "1218/1218 [==============================] - 4s 3ms/step - loss: 0.4523 - accuracy: 0.9220\n",
            "Epoch 21/50\n",
            "1218/1218 [==============================] - 4s 3ms/step - loss: 0.6184 - accuracy: 0.8859\n",
            "Epoch 22/50\n",
            "1218/1218 [==============================] - 4s 3ms/step - loss: 0.4901 - accuracy: 0.9023\n",
            "Epoch 23/50\n",
            "1218/1218 [==============================] - 4s 3ms/step - loss: 0.5911 - accuracy: 0.8826\n",
            "Epoch 24/50\n",
            "1218/1218 [==============================] - 4s 3ms/step - loss: 0.4339 - accuracy: 0.8859\n",
            "Epoch 25/50\n",
            "1218/1218 [==============================] - 4s 3ms/step - loss: 0.5157 - accuracy: 0.9236\n",
            "Epoch 26/50\n",
            "1218/1218 [==============================] - 4s 3ms/step - loss: 0.5208 - accuracy: 0.8908\n",
            "Epoch 27/50\n",
            "1218/1218 [==============================] - 4s 3ms/step - loss: 0.6940 - accuracy: 0.8900\n",
            "Epoch 28/50\n",
            "1218/1218 [==============================] - 4s 3ms/step - loss: 0.4005 - accuracy: 0.9154\n",
            "Epoch 29/50\n",
            "1218/1218 [==============================] - 4s 3ms/step - loss: 0.4590 - accuracy: 0.9122\n",
            "Epoch 30/50\n",
            "1218/1218 [==============================] - 4s 3ms/step - loss: 0.4645 - accuracy: 0.9113\n",
            "Epoch 31/50\n",
            "1218/1218 [==============================] - 4s 3ms/step - loss: 0.3643 - accuracy: 0.9187\n",
            "Epoch 32/50\n",
            "1218/1218 [==============================] - 4s 3ms/step - loss: 0.3284 - accuracy: 0.9171\n",
            "Epoch 33/50\n",
            "1218/1218 [==============================] - 4s 3ms/step - loss: 0.4269 - accuracy: 0.9130\n",
            "Epoch 34/50\n",
            "1218/1218 [==============================] - 4s 3ms/step - loss: 0.4292 - accuracy: 0.9187\n",
            "Epoch 35/50\n",
            "1218/1218 [==============================] - 4s 3ms/step - loss: 0.4619 - accuracy: 0.9491\n",
            "Epoch 36/50\n",
            "1218/1218 [==============================] - 4s 3ms/step - loss: 0.8471 - accuracy: 0.8957\n",
            "Epoch 37/50\n",
            "1218/1218 [==============================] - 4s 3ms/step - loss: 0.5582 - accuracy: 0.8982\n",
            "Epoch 38/50\n",
            "1218/1218 [==============================] - 4s 3ms/step - loss: 0.4634 - accuracy: 0.9302\n",
            "Epoch 39/50\n",
            "1218/1218 [==============================] - 4s 3ms/step - loss: 0.3742 - accuracy: 0.9351\n",
            "Epoch 40/50\n",
            "1218/1218 [==============================] - 4s 3ms/step - loss: 0.5277 - accuracy: 0.8670\n",
            "Epoch 41/50\n",
            "1218/1218 [==============================] - 4s 3ms/step - loss: 0.3762 - accuracy: 0.9154\n",
            "Epoch 42/50\n",
            "1218/1218 [==============================] - 4s 3ms/step - loss: 0.3761 - accuracy: 0.8834\n",
            "Epoch 43/50\n",
            "1218/1218 [==============================] - 4s 3ms/step - loss: 0.4877 - accuracy: 0.9483\n",
            "Epoch 44/50\n",
            "1218/1218 [==============================] - 4s 3ms/step - loss: 0.3397 - accuracy: 0.9310\n",
            "Epoch 45/50\n",
            "1218/1218 [==============================] - 4s 3ms/step - loss: 0.4154 - accuracy: 0.8883\n",
            "Epoch 46/50\n",
            "1218/1218 [==============================] - 4s 3ms/step - loss: 0.3767 - accuracy: 0.9228\n",
            "Epoch 47/50\n",
            "1218/1218 [==============================] - 4s 3ms/step - loss: 0.3173 - accuracy: 0.9105\n",
            "Epoch 48/50\n",
            "1218/1218 [==============================] - 4s 3ms/step - loss: 0.2118 - accuracy: 0.9351\n",
            "Epoch 49/50\n",
            "1218/1218 [==============================] - 4s 3ms/step - loss: 0.4222 - accuracy: 0.9023\n",
            "Epoch 50/50\n",
            "1218/1218 [==============================] - 4s 3ms/step - loss: 0.4170 - accuracy: 0.9023\n"
          ],
          "name": "stdout"
        }
      ]
    },
    {
      "cell_type": "markdown",
      "metadata": {
        "id": "RR4O61HAq16y",
        "colab_type": "text"
      },
      "source": [
        "## Results of Fifth Model"
      ]
    },
    {
      "cell_type": "code",
      "metadata": {
        "id": "5peFcM2Blqwm",
        "colab_type": "code",
        "outputId": "44cd0e61-549a-4db2-a765-03c78c806764",
        "colab": {
          "base_uri": "https://localhost:8080/",
          "height": 730
        }
      },
      "source": [
        "# model details\n",
        "model5_dict = model5.history\n",
        "model5_acc_values = model5_dict['accuracy'] \n",
        "model5_loss_values = model5_dict['loss']\n",
        "\n",
        "# Plot the accuracy and loss for these models\n",
        "fig1, ax = plt.subplots(2, figsize=(10, 12))\n",
        "\n",
        "epochs = range(1, len(model5_acc_values) + 1)\n",
        "\n",
        "# Training Accuracy\n",
        "ax[0].plot(epochs, model5_acc_values, 'b', label='Model5 Training Accuracy')\n",
        "ax[0].set_title('Training Accuracy and Loss')\n",
        "ax[0].set_xlabel('Epochs')\n",
        "ax[0].set_ylabel('Accuracy')\n",
        "ax[0].legend();\n",
        "\n",
        "# Training Loss\n",
        "ax[1].plot(epochs, model5_loss_values, 'g', label='Model5 Training Loss')\n",
        "ax[1].set_xlabel('Epochs')\n",
        "ax[1].set_ylabel('Loss')\n",
        "ax[1].legend();\n",
        "plt.show()"
      ],
      "execution_count": 0,
      "outputs": [
        {
          "output_type": "display_data",
          "data": {
            "image/png": "[encoded data removed]",
            "text/plain": [
              "<Figure size 720x864 with 2 Axes>"
            ]
          },
          "metadata": {
            "tags": [],
            "needs_background": "light"
          }
        }
      ]
    },
    {
      "cell_type": "markdown",
      "metadata": {
        "id": "kNT_n9MmyjAg",
        "colab_type": "text"
      },
      "source": [
        "### Test Metrics"
      ]
    },
    {
      "cell_type": "code",
      "metadata": {
        "id": "UsCYWDtPrI7u",
        "colab_type": "code",
        "outputId": "e0c2129f-b4ea-4c1e-dbc5-34868857c174",
        "colab": {
          "base_uri": "https://localhost:8080/",
          "height": 85
        }
      },
      "source": [
        "# Accuracy and Error on Train and Test Images\n",
        "pred_train5= classifier.predict(train_images)\n",
        "train_scores5 = classifier.evaluate(train_images, train_labels, verbose=0)\n",
        "print('Accuracy on training data: \\t{:.2f} \\nError on training data: \\t{:.2f}'.format(train_scores5[1], 1 - train_scores5[1]))   \n",
        "\n",
        "pred_test5= classifier.predict(test_images)\n",
        "test_scores5 = classifier.evaluate(test_images, test_labels, verbose=0)\n",
        "print('Accuracy on test data: \\t\\t{:.2f} \\nError on test data: \\t\\t{:.2f}'.format(test_scores5[1], 1 - test_scores5[1]))"
      ],
      "execution_count": 0,
      "outputs": [
        {
          "output_type": "stream",
          "text": [
            "Accuracy on training data: \t0.94 \n",
            "Error on training data: \t0.06\n",
            "Accuracy on test data: \t\t0.79 \n",
            "Error on test data: \t\t0.21\n"
          ],
          "name": "stdout"
        }
      ]
    },
    {
      "cell_type": "code",
      "metadata": {
        "id": "6DSL3V4trXtQ",
        "colab_type": "code",
        "outputId": "76306554-bb0e-4462-e7ac-6d90805780f2",
        "colab": {
          "base_uri": "https://localhost:8080/",
          "height": 315
        }
      },
      "source": [
        "# Confusion Matrix\n",
        "cm = confusion_matrix(test_labels, np.round(pred_test5))\n",
        "print(cm)\n",
        "\n",
        "fig_cmb = sns.heatmap(cm, cmap='Pastel1', annot=True, fmt='d', square=True)\n",
        "plt.autoscale\n",
        "plt.title('Confusion Matrix')\n",
        "plt.show();"
      ],
      "execution_count": 0,
      "outputs": [
        {
          "output_type": "stream",
          "text": [
            "[[123 111]\n",
            " [ 21 369]]\n"
          ],
          "name": "stdout"
        },
        {
          "output_type": "display_data",
          "data": {
            "image/png": "[encoded data removed]",
            "text/plain": [
              "<Figure size 432x288 with 2 Axes>"
            ]
          },
          "metadata": {
            "tags": [],
            "needs_background": "light"
          }
        }
      ]
    },
    {
      "cell_type": "markdown",
      "metadata": {
        "id": "pOe_7ZUK7BTg",
        "colab_type": "text"
      },
      "source": [
        ""
      ]
    },
    {
      "cell_type": "markdown",
      "metadata": {
        "id": "Plv850Uy2tZD",
        "colab_type": "text"
      },
      "source": [
        "# Sixth Model\n",
        "Will try regulizer L1."
      ]
    },
    {
      "cell_type": "code",
      "metadata": {
        "id": "kOYmRjKfGBIN",
        "colab_type": "code",
        "outputId": "b713411d-c207-48c8-a056-9d453a741103",
        "colab": {
          "base_uri": "https://localhost:8080/",
          "height": 1717
        }
      },
      "source": [
        "# Use of CNN with L1 added\n",
        "classifier = Sequential([\n",
        "                         Conv2D(8, kernel_size=(4, 4), activation='relu', \n",
        "                                padding='same',input_shape=train_images.shape[1:],\n",
        "                                kernel_regularizer=regularizers.l1(0.005)),\n",
        "                         MaxPooling2D(pool_size=(2, 2),strides=2),\n",
        "                         Conv2D(4, kernel_size=(5, 5), activation='relu', kernel_regularizer=regularizers.l1(0.005)),\n",
        "                         MaxPooling2D(pool_size=(2, 2),strides=2),\n",
        "                         Dropout(0.3),\n",
        "                         Flatten(),\n",
        "                         Dense(16, activation='relu', kernel_regularizer=regularizers.l1(0.005)),\n",
        "                         Dropout(0.3),\n",
        "                         Dense(8, activation='relu'),\n",
        "                         Dense(1, activation='sigmoid')\n",
        "                         ])\n",
        "# Compile the model\n",
        "classifier.compile(optimizer='adam', \n",
        "                   loss='binary_crossentropy', \n",
        "                   metrics=['accuracy'])\n",
        "\n",
        "# Train the model\n",
        "model6 = classifier.fit(train_images,\n",
        "                        train_labels, \n",
        "                        class_weight=weights,\n",
        "                        epochs=50,\n",
        "                        batch_size=10)"
      ],
      "execution_count": 0,
      "outputs": [
        {
          "output_type": "stream",
          "text": [
            "Epoch 1/50\n",
            "1218/1218 [==============================] - 4s 3ms/step - loss: 13.3039 - accuracy: 0.6806\n",
            "Epoch 2/50\n",
            "1218/1218 [==============================] - 4s 3ms/step - loss: 2.9337 - accuracy: 0.3465\n",
            "Epoch 3/50\n",
            "1218/1218 [==============================] - 4s 3ms/step - loss: 2.8051 - accuracy: 0.2422\n",
            "Epoch 4/50\n",
            "1218/1218 [==============================] - 4s 3ms/step - loss: 2.6875 - accuracy: 0.2094\n",
            "Epoch 5/50\n",
            "1218/1218 [==============================] - 4s 3ms/step - loss: 2.9025 - accuracy: 0.2750\n",
            "Epoch 6/50\n",
            "1218/1218 [==============================] - 4s 3ms/step - loss: 2.6056 - accuracy: 0.1544\n",
            "Epoch 7/50\n",
            "1218/1218 [==============================] - 4s 3ms/step - loss: 2.4994 - accuracy: 0.1716\n",
            "Epoch 8/50\n",
            "1218/1218 [==============================] - 4s 3ms/step - loss: 2.4175 - accuracy: 0.5312\n",
            "Epoch 9/50\n",
            "1218/1218 [==============================] - 4s 3ms/step - loss: 3.6886 - accuracy: 0.6568\n",
            "Epoch 10/50\n",
            "1218/1218 [==============================] - 4s 3ms/step - loss: 2.4897 - accuracy: 0.7956\n",
            "Epoch 11/50\n",
            "1218/1218 [==============================] - 4s 3ms/step - loss: 2.4259 - accuracy: 0.8785\n",
            "Epoch 12/50\n",
            "1218/1218 [==============================] - 4s 3ms/step - loss: 2.3526 - accuracy: 0.8292\n",
            "Epoch 13/50\n",
            "1218/1218 [==============================] - 4s 3ms/step - loss: 2.3153 - accuracy: 0.8711\n",
            "Epoch 14/50\n",
            "1218/1218 [==============================] - 4s 3ms/step - loss: 2.2738 - accuracy: 0.8251\n",
            "Epoch 15/50\n",
            "1218/1218 [==============================] - 4s 3ms/step - loss: 2.2489 - accuracy: 0.8826\n",
            "Epoch 16/50\n",
            "1218/1218 [==============================] - 4s 3ms/step - loss: 2.2772 - accuracy: 0.8481\n",
            "Epoch 17/50\n",
            "1218/1218 [==============================] - 4s 3ms/step - loss: 2.2530 - accuracy: 0.9113\n",
            "Epoch 18/50\n",
            "1218/1218 [==============================] - 4s 3ms/step - loss: 2.2063 - accuracy: 0.9015\n",
            "Epoch 19/50\n",
            "1218/1218 [==============================] - 4s 3ms/step - loss: 2.1543 - accuracy: 0.9072\n",
            "Epoch 20/50\n",
            "1218/1218 [==============================] - 4s 3ms/step - loss: 2.1350 - accuracy: 0.9015\n",
            "Epoch 21/50\n",
            "1218/1218 [==============================] - 4s 3ms/step - loss: 2.0975 - accuracy: 0.9023\n",
            "Epoch 22/50\n",
            "1218/1218 [==============================] - 4s 3ms/step - loss: 2.0706 - accuracy: 0.8966\n",
            "Epoch 23/50\n",
            "1218/1218 [==============================] - 4s 3ms/step - loss: 2.0484 - accuracy: 0.9072\n",
            "Epoch 24/50\n",
            "1218/1218 [==============================] - 4s 3ms/step - loss: 2.0145 - accuracy: 0.9039\n",
            "Epoch 25/50\n",
            "1218/1218 [==============================] - 4s 3ms/step - loss: 1.9852 - accuracy: 0.9007\n",
            "Epoch 26/50\n",
            "1218/1218 [==============================] - 4s 3ms/step - loss: 1.9723 - accuracy: 0.9007\n",
            "Epoch 27/50\n",
            "1218/1218 [==============================] - 4s 3ms/step - loss: 1.9365 - accuracy: 0.9015\n",
            "Epoch 28/50\n",
            "1218/1218 [==============================] - 4s 3ms/step - loss: 1.9121 - accuracy: 0.8916\n",
            "Epoch 29/50\n",
            "1218/1218 [==============================] - 4s 3ms/step - loss: 1.8875 - accuracy: 0.8990\n",
            "Epoch 30/50\n",
            "1218/1218 [==============================] - 4s 3ms/step - loss: 1.8708 - accuracy: 0.8949\n",
            "Epoch 31/50\n",
            "1218/1218 [==============================] - 4s 3ms/step - loss: 1.8718 - accuracy: 0.8949\n",
            "Epoch 32/50\n",
            "1218/1218 [==============================] - 4s 3ms/step - loss: 1.8274 - accuracy: 0.8933\n",
            "Epoch 33/50\n",
            "1218/1218 [==============================] - 4s 3ms/step - loss: 1.7868 - accuracy: 0.9015\n",
            "Epoch 34/50\n",
            "1218/1218 [==============================] - 4s 3ms/step - loss: 1.8080 - accuracy: 0.8916\n",
            "Epoch 35/50\n",
            "1218/1218 [==============================] - 4s 3ms/step - loss: 1.8506 - accuracy: 0.8727\n",
            "Epoch 36/50\n",
            "1218/1218 [==============================] - 4s 3ms/step - loss: 1.8289 - accuracy: 0.8686\n",
            "Epoch 37/50\n",
            "1218/1218 [==============================] - 4s 3ms/step - loss: 1.7819 - accuracy: 0.8892\n",
            "Epoch 38/50\n",
            "1218/1218 [==============================] - 4s 3ms/step - loss: 1.7278 - accuracy: 0.8900\n",
            "Epoch 39/50\n",
            "1218/1218 [==============================] - 4s 3ms/step - loss: 1.7067 - accuracy: 0.8933\n",
            "Epoch 40/50\n",
            "1218/1218 [==============================] - 4s 3ms/step - loss: 1.6457 - accuracy: 0.8941\n",
            "Epoch 41/50\n",
            "1218/1218 [==============================] - 4s 3ms/step - loss: 1.6444 - accuracy: 0.8810\n",
            "Epoch 42/50\n",
            "1218/1218 [==============================] - 4s 3ms/step - loss: 1.6846 - accuracy: 0.8818\n",
            "Epoch 43/50\n",
            "1218/1218 [==============================] - 4s 3ms/step - loss: 1.6087 - accuracy: 0.8842\n",
            "Epoch 44/50\n",
            "1218/1218 [==============================] - 4s 3ms/step - loss: 1.5426 - accuracy: 0.8933\n",
            "Epoch 45/50\n",
            "1218/1218 [==============================] - 4s 3ms/step - loss: 1.4994 - accuracy: 0.8637\n",
            "Epoch 46/50\n",
            "1218/1218 [==============================] - 4s 3ms/step - loss: 1.4391 - accuracy: 0.8736\n",
            "Epoch 47/50\n",
            "1218/1218 [==============================] - 4s 3ms/step - loss: 1.5597 - accuracy: 0.8826\n",
            "Epoch 48/50\n",
            "1218/1218 [==============================] - 4s 3ms/step - loss: 1.9290 - accuracy: 0.8695\n",
            "Epoch 49/50\n",
            "1218/1218 [==============================] - 4s 3ms/step - loss: 1.5641 - accuracy: 0.8785\n",
            "Epoch 50/50\n",
            "1218/1218 [==============================] - 4s 3ms/step - loss: 1.4397 - accuracy: 0.8777\n"
          ],
          "name": "stdout"
        }
      ]
    },
    {
      "cell_type": "markdown",
      "metadata": {
        "id": "rUXPc4xiKnfI",
        "colab_type": "text"
      },
      "source": [
        "## Results of Sixth Model"
      ]
    },
    {
      "cell_type": "code",
      "metadata": {
        "colab_type": "code",
        "outputId": "5cd4e124-2204-4319-9c1f-e4d715a79e5a",
        "id": "bbqnT2EM2prQ",
        "colab": {
          "base_uri": "https://localhost:8080/",
          "height": 730
        }
      },
      "source": [
        "# model details\n",
        "model6_dict = model5.history\n",
        "model6_acc_values = model5_dict['accuracy'] \n",
        "model6_loss_values = model5_dict['loss']\n",
        "\n",
        "# Plot the accuracy and loss for these models\n",
        "fig1, ax = plt.subplots(2, figsize=(10, 12))\n",
        "\n",
        "epochs = range(1, len(model6_acc_values) + 1)\n",
        "\n",
        "# Training Accuracy\n",
        "ax[0].plot(epochs, model6_acc_values, 'b', label='Model6 Training Accuracy')\n",
        "ax[0].set_title('Training Accuracy and Loss')\n",
        "ax[0].set_xlabel('Epochs')\n",
        "ax[0].set_ylabel('Accuracy')\n",
        "ax[0].legend();\n",
        "\n",
        "# Training Loss\n",
        "ax[1].plot(epochs, model6_loss_values, 'g', label='Model6 Training Loss')\n",
        "ax[1].set_xlabel('Epochs')\n",
        "ax[1].set_ylabel('Loss')\n",
        "ax[1].legend();\n",
        "plt.show()"
      ],
      "execution_count": 0,
      "outputs": [
        {
          "output_type": "display_data",
          "data": {
            "image/png": "[encoded data removed]",
            "text/plain": [
              "<Figure size 720x864 with 2 Axes>"
            ]
          },
          "metadata": {
            "tags": [],
            "needs_background": "light"
          }
        }
      ]
    },
    {
      "cell_type": "markdown",
      "metadata": {
        "colab_type": "text",
        "id": "bN6EOMpx2prZ"
      },
      "source": [
        "### Model Metrics"
      ]
    },
    {
      "cell_type": "code",
      "metadata": {
        "colab_type": "code",
        "outputId": "45f18216-3412-4ba2-e399-0043a7a98dcf",
        "id": "twh4UcYy2prZ",
        "colab": {
          "base_uri": "https://localhost:8080/",
          "height": 85
        }
      },
      "source": [
        "# Accuracy and Error on Train and Test Images\n",
        "pred_train6= classifier.predict(train_images)\n",
        "train_scores6 = classifier.evaluate(train_images, train_labels, verbose=0)\n",
        "print('Accuracy on training data: \\t{:.2f} \\nError on training data: \\t{:.2f}'.format(train_scores6[1], 1 - train_scores6[1]))   \n",
        "\n",
        "pred_test6= classifier.predict(test_images)\n",
        "test_scores6 = classifier.evaluate(test_images, test_labels, verbose=0)\n",
        "print('Accuracy on test data: \\t\\t{:.2f} \\nError on test data: \\t\\t{:.2f}'.format(test_scores6[1], 1 - test_scores6[1]))"
      ],
      "execution_count": 0,
      "outputs": [
        {
          "output_type": "stream",
          "text": [
            "Accuracy on training data: \t0.89 \n",
            "Error on training data: \t0.11\n",
            "Accuracy on test data: \t\t0.71 \n",
            "Error on test data: \t\t0.29\n"
          ],
          "name": "stdout"
        }
      ]
    },
    {
      "cell_type": "code",
      "metadata": {
        "colab_type": "code",
        "outputId": "3def60a8-4562-4762-f5ee-b0594df01f8d",
        "id": "Q7Gs8wS42prb",
        "colab": {
          "base_uri": "https://localhost:8080/",
          "height": 85
        }
      },
      "source": [
        "# test predictions\n",
        "test_preds = classifier.predict_classes(test_images)\n",
        "# convert to a 1D array\n",
        "test_preds = test_preds[:, 0]\n",
        "\n",
        "# accuracy: (tp + tn) / (p + n)\n",
        "accuracy = accuracy_score(test_labels, test_preds)\n",
        "print('Accuracy: \\t%.2f' % accuracy)\n",
        "# precision tp / (tp + fp)\n",
        "precision = precision_score(test_labels, test_preds)\n",
        "print('Precision: \\t%.2f' % precision)\n",
        "# recall: tp / (tp + fn)\n",
        "recall = recall_score(test_labels, test_preds)\n",
        "print('Recall: \\t%.2f' % recall)\n",
        "# f1: 2 tp / (2 tp + fp + fn)\n",
        "f1 = f1_score(test_labels, test_preds)\n",
        "print('F1 score: \\t%.2f' % f1)"
      ],
      "execution_count": 0,
      "outputs": [
        {
          "output_type": "stream",
          "text": [
            "Accuracy: \t0.71\n",
            "Precision: \t0.70\n",
            "Recall: \t0.95\n",
            "F1 score: \t0.80\n"
          ],
          "name": "stdout"
        }
      ]
    },
    {
      "cell_type": "code",
      "metadata": {
        "colab_type": "code",
        "outputId": "37f42257-1ece-4dff-b2e4-509d703f7479",
        "id": "qVsem2Hs2prd",
        "colab": {
          "base_uri": "https://localhost:8080/",
          "height": 315
        }
      },
      "source": [
        "# Confusion Matrix\n",
        "cm = confusion_matrix(test_labels, np.round(pred_test6))\n",
        "print(cm)\n",
        "\n",
        "fig_cmb = sns.heatmap(cm, cmap='Pastel1', annot=True, fmt='d', square=True)\n",
        "plt.autoscale\n",
        "plt.title('Confusion Matrix')\n",
        "plt.show();"
      ],
      "execution_count": 0,
      "outputs": [
        {
          "output_type": "stream",
          "text": [
            "[[ 72 162]\n",
            " [ 20 370]]\n"
          ],
          "name": "stdout"
        },
        {
          "output_type": "display_data",
          "data": {
            "image/png": "[encoded data removed]",
            "text/plain": [
              "<Figure size 432x288 with 2 Axes>"
            ]
          },
          "metadata": {
            "tags": [],
            "needs_background": "light"
          }
        }
      ]
    },
    {
      "cell_type": "markdown",
      "metadata": {
        "id": "_j6lRfZIMdug",
        "colab_type": "text"
      },
      "source": [
        ""
      ]
    },
    {
      "cell_type": "markdown",
      "metadata": {
        "id": "8dxRYHL4Md-k",
        "colab_type": "text"
      },
      "source": [
        "# Seventh Model\n",
        "Added L2 Regularization"
      ]
    },
    {
      "cell_type": "code",
      "metadata": {
        "id": "E7k06ywbMnHo",
        "colab_type": "code",
        "outputId": "9a663011-72e7-4da6-ce50-a62bfcf042eb",
        "colab": {
          "base_uri": "https://localhost:8080/",
          "height": 1717
        }
      },
      "source": [
        "# Use of CNN with L2 added\n",
        "classifier = Sequential([\n",
        "                         Conv2D(8, kernel_size=(4, 4), activation='relu', \n",
        "                                padding='same',input_shape=train_images.shape[1:],\n",
        "                                kernel_regularizer=regularizers.l2(0.01)),\n",
        "                         MaxPooling2D(pool_size=(2, 2),strides=2),\n",
        "                         Conv2D(4, kernel_size=(5, 5), activation='relu', kernel_regularizer=regularizers.l2(0.01)),\n",
        "                         MaxPooling2D(pool_size=(2, 2),strides=2),\n",
        "                         Dropout(0.3),\n",
        "                         Flatten(),\n",
        "                         Dense(16, activation='relu', kernel_regularizer=regularizers.l2(0.01)),\n",
        "                         Dropout(0.3),\n",
        "                         Dense(8, activation='relu'),\n",
        "                         Dense(1, activation='sigmoid')\n",
        "                         ])\n",
        "# Compile the model\n",
        "classifier.compile(optimizer='adam', \n",
        "                   loss='binary_crossentropy', \n",
        "                   metrics=['accuracy'])\n",
        "\n",
        "# Train the model\n",
        "model7 = classifier.fit(train_images,\n",
        "                        train_labels, \n",
        "                        class_weight=weights,\n",
        "                        epochs=50,\n",
        "                        batch_size=10)"
      ],
      "execution_count": 0,
      "outputs": [
        {
          "output_type": "stream",
          "text": [
            "Epoch 1/50\n",
            "1218/1218 [==============================] - 4s 3ms/step - loss: 10.5329 - accuracy: 0.6018\n",
            "Epoch 2/50\n",
            "1218/1218 [==============================] - 4s 3ms/step - loss: 1.8640 - accuracy: 0.6626\n",
            "Epoch 3/50\n",
            "1218/1218 [==============================] - 4s 3ms/step - loss: 1.7342 - accuracy: 0.6478\n",
            "Epoch 4/50\n",
            "1218/1218 [==============================] - 4s 3ms/step - loss: 1.5753 - accuracy: 0.6782\n",
            "Epoch 5/50\n",
            "1218/1218 [==============================] - 4s 3ms/step - loss: 1.4164 - accuracy: 0.7077\n",
            "Epoch 6/50\n",
            "1218/1218 [==============================] - 4s 3ms/step - loss: 1.5193 - accuracy: 0.7709\n",
            "Epoch 7/50\n",
            "1218/1218 [==============================] - 4s 3ms/step - loss: 1.3626 - accuracy: 0.8489\n",
            "Epoch 8/50\n",
            "1218/1218 [==============================] - 4s 3ms/step - loss: 1.3771 - accuracy: 0.8177\n",
            "Epoch 9/50\n",
            "1218/1218 [==============================] - 4s 3ms/step - loss: 1.2760 - accuracy: 0.7898\n",
            "Epoch 10/50\n",
            "1218/1218 [==============================] - 4s 3ms/step - loss: 1.2791 - accuracy: 0.8186\n",
            "Epoch 11/50\n",
            "1218/1218 [==============================] - 4s 3ms/step - loss: 1.1497 - accuracy: 0.8892\n",
            "Epoch 12/50\n",
            "1218/1218 [==============================] - 4s 3ms/step - loss: 1.1258 - accuracy: 0.8218\n",
            "Epoch 13/50\n",
            "1218/1218 [==============================] - 4s 3ms/step - loss: 0.9874 - accuracy: 0.7898\n",
            "Epoch 14/50\n",
            "1218/1218 [==============================] - 4s 3ms/step - loss: 0.9618 - accuracy: 0.8259\n",
            "Epoch 15/50\n",
            "1218/1218 [==============================] - 4s 3ms/step - loss: 0.9676 - accuracy: 0.8202\n",
            "Epoch 16/50\n",
            "1218/1218 [==============================] - 4s 3ms/step - loss: 0.8441 - accuracy: 0.8892\n",
            "Epoch 17/50\n",
            "1218/1218 [==============================] - 4s 3ms/step - loss: 0.8184 - accuracy: 0.8645\n",
            "Epoch 18/50\n",
            "1218/1218 [==============================] - 4s 3ms/step - loss: 0.7555 - accuracy: 0.8834\n",
            "Epoch 19/50\n",
            "1218/1218 [==============================] - 4s 3ms/step - loss: 0.8426 - accuracy: 0.8530\n",
            "Epoch 20/50\n",
            "1218/1218 [==============================] - 4s 3ms/step - loss: 0.7677 - accuracy: 0.8834\n",
            "Epoch 21/50\n",
            "1218/1218 [==============================] - 4s 3ms/step - loss: 0.8334 - accuracy: 0.8539\n",
            "Epoch 22/50\n",
            "1218/1218 [==============================] - 4s 3ms/step - loss: 0.7240 - accuracy: 0.8793\n",
            "Epoch 23/50\n",
            "1218/1218 [==============================] - 4s 3ms/step - loss: 0.6758 - accuracy: 0.8941\n",
            "Epoch 24/50\n",
            "1218/1218 [==============================] - 4s 3ms/step - loss: 0.7018 - accuracy: 0.9064\n",
            "Epoch 25/50\n",
            "1218/1218 [==============================] - 4s 3ms/step - loss: 0.7932 - accuracy: 0.8810\n",
            "Epoch 26/50\n",
            "1218/1218 [==============================] - 4s 3ms/step - loss: 0.6544 - accuracy: 0.9056\n",
            "Epoch 27/50\n",
            "1218/1218 [==============================] - 4s 3ms/step - loss: 0.6688 - accuracy: 0.9072\n",
            "Epoch 28/50\n",
            "1218/1218 [==============================] - 4s 3ms/step - loss: 0.6878 - accuracy: 0.8982\n",
            "Epoch 29/50\n",
            "1218/1218 [==============================] - 4s 3ms/step - loss: 0.5616 - accuracy: 0.9384\n",
            "Epoch 30/50\n",
            "1218/1218 [==============================] - 4s 3ms/step - loss: 0.8631 - accuracy: 0.8892\n",
            "Epoch 31/50\n",
            "1218/1218 [==============================] - 4s 3ms/step - loss: 0.6766 - accuracy: 0.9048\n",
            "Epoch 32/50\n",
            "1218/1218 [==============================] - 4s 3ms/step - loss: 0.6194 - accuracy: 0.9360\n",
            "Epoch 33/50\n",
            "1218/1218 [==============================] - 4s 3ms/step - loss: 0.6227 - accuracy: 0.9204\n",
            "Epoch 34/50\n",
            "1218/1218 [==============================] - 4s 3ms/step - loss: 0.7261 - accuracy: 0.9228\n",
            "Epoch 35/50\n",
            "1218/1218 [==============================] - 4s 3ms/step - loss: 0.8999 - accuracy: 0.8916\n",
            "Epoch 36/50\n",
            "1218/1218 [==============================] - 4s 3ms/step - loss: 0.5575 - accuracy: 0.9278\n",
            "Epoch 37/50\n",
            "1218/1218 [==============================] - 4s 3ms/step - loss: 0.6005 - accuracy: 0.9417\n",
            "Epoch 38/50\n",
            "1218/1218 [==============================] - 4s 3ms/step - loss: 0.9481 - accuracy: 0.8998\n",
            "Epoch 39/50\n",
            "1218/1218 [==============================] - 4s 3ms/step - loss: 0.9251 - accuracy: 0.8949\n",
            "Epoch 40/50\n",
            "1218/1218 [==============================] - 4s 3ms/step - loss: 0.9901 - accuracy: 0.8571\n",
            "Epoch 41/50\n",
            "1218/1218 [==============================] - 4s 3ms/step - loss: 0.8777 - accuracy: 0.9039\n",
            "Epoch 42/50\n",
            "1218/1218 [==============================] - 4s 3ms/step - loss: 0.8562 - accuracy: 0.9195\n",
            "Epoch 43/50\n",
            "1218/1218 [==============================] - 4s 3ms/step - loss: 0.8556 - accuracy: 0.9146\n",
            "Epoch 44/50\n",
            "1218/1218 [==============================] - 4s 3ms/step - loss: 0.8123 - accuracy: 0.8924\n",
            "Epoch 45/50\n",
            "1218/1218 [==============================] - 4s 3ms/step - loss: 0.6883 - accuracy: 0.9113\n",
            "Epoch 46/50\n",
            "1218/1218 [==============================] - 4s 3ms/step - loss: 0.5992 - accuracy: 0.9269\n",
            "Epoch 47/50\n",
            "1218/1218 [==============================] - 4s 3ms/step - loss: 0.6359 - accuracy: 0.9351\n",
            "Epoch 48/50\n",
            "1218/1218 [==============================] - 4s 3ms/step - loss: 0.5901 - accuracy: 0.9368\n",
            "Epoch 49/50\n",
            "1218/1218 [==============================] - 7s 5ms/step - loss: 0.5882 - accuracy: 0.9245\n",
            "Epoch 50/50\n",
            "1218/1218 [==============================] - 5s 4ms/step - loss: 0.5645 - accuracy: 0.9261\n"
          ],
          "name": "stdout"
        }
      ]
    },
    {
      "cell_type": "code",
      "metadata": {
        "colab_type": "code",
        "outputId": "bcd9134c-5a99-43c2-ca6b-eee81de86756",
        "id": "JaPFHqKq2Oi7",
        "colab": {
          "base_uri": "https://localhost:8080/",
          "height": 730
        }
      },
      "source": [
        "# model details\n",
        "model7_dict = model7.history\n",
        "model7_acc_values = model7_dict['accuracy'] \n",
        "model7_loss_values = model7_dict['loss']\n",
        "\n",
        "# Plot the accuracy and loss for these models\n",
        "fig1, ax = plt.subplots(2, figsize=(10, 12))\n",
        "\n",
        "epochs = range(1, len(model7_acc_values) + 1)\n",
        "\n",
        "# Training Accuracy\n",
        "ax[0].plot(epochs, model7_acc_values, 'b', label='Model7 Training Accuracy')\n",
        "ax[0].set_title('Training Accuracy and Loss')\n",
        "ax[0].set_xlabel('Epochs')\n",
        "ax[0].set_ylabel('Accuracy')\n",
        "ax[0].legend();\n",
        "\n",
        "# Training Loss\n",
        "ax[1].plot(epochs, model7_loss_values, 'g', label='Model7 Training Loss')\n",
        "ax[1].set_xlabel('Epochs')\n",
        "ax[1].set_ylabel('Loss')\n",
        "ax[1].legend();\n",
        "plt.show()"
      ],
      "execution_count": 0,
      "outputs": [
        {
          "output_type": "display_data",
          "data": {
            "image/png": "[encoded data removed]",
            "text/plain": [
              "<Figure size 720x864 with 2 Axes>"
            ]
          },
          "metadata": {
            "tags": [],
            "needs_background": "light"
          }
        }
      ]
    },
    {
      "cell_type": "markdown",
      "metadata": {
        "colab_type": "text",
        "id": "vJwzSJv32OjD"
      },
      "source": [
        "### Test Metrics"
      ]
    },
    {
      "cell_type": "code",
      "metadata": {
        "colab_type": "code",
        "outputId": "407c5a4f-b1a4-4edc-8532-7f592599a694",
        "id": "XT3MVoYt2OjD",
        "colab": {
          "base_uri": "https://localhost:8080/",
          "height": 85
        }
      },
      "source": [
        "# Accuracy and Error on Train and Test Images\n",
        "pred_train7= classifier.predict(train_images)\n",
        "train_scores7 = classifier.evaluate(train_images, train_labels, verbose=0)\n",
        "print('Accuracy on training data: \\t{:.2f} \\nError on training data: \\t{:.2f}'.format(train_scores7[1], 1 - train_scores7[1]))   \n",
        "\n",
        "pred_test7= classifier.predict(test_images)\n",
        "test_scores7 = classifier.evaluate(test_images, test_labels, verbose=0)\n",
        "print('Accuracy on test data: \\t\\t{:.2f} \\nError on test data: \\t\\t{:.2f}'.format(test_scores7[1], 1 - test_scores7[1]))"
      ],
      "execution_count": 0,
      "outputs": [
        {
          "output_type": "stream",
          "text": [
            "Accuracy on training data: \t0.95 \n",
            "Error on training data: \t0.05\n",
            "Accuracy on test data: \t\t0.77 \n",
            "Error on test data: \t\t0.23\n"
          ],
          "name": "stdout"
        }
      ]
    },
    {
      "cell_type": "code",
      "metadata": {
        "colab_type": "code",
        "outputId": "51efbb2c-5f61-49ca-908d-605e8e7556a5",
        "id": "GSMnRAbd2OjF",
        "colab": {
          "base_uri": "https://localhost:8080/",
          "height": 85
        }
      },
      "source": [
        "# test predictions\n",
        "test_preds7 = classifier.predict_classes(test_images)\n",
        "# convert to a 1D array\n",
        "test_preds7 = test_preds7[:, 0]\n",
        "\n",
        "# accuracy: (tp + tn) / (p + n)\n",
        "accuracy = accuracy_score(test_labels, test_preds7)\n",
        "print('Accuracy: \\t%.2f' % accuracy)\n",
        "# precision tp / (tp + fp)\n",
        "precision = precision_score(test_labels, test_preds7)\n",
        "print('Precision: \\t%.2f' % precision)\n",
        "# recall: tp / (tp + fn)\n",
        "recall = recall_score(test_labels, test_preds7)\n",
        "print('Recall: \\t%.2f' % recall)\n",
        "# f1: 2 tp / (2 tp + fp + fn)\n",
        "f1 = f1_score(test_labels, test_preds7)\n",
        "print('F1 score: \\t%.2f' % f1)"
      ],
      "execution_count": 0,
      "outputs": [
        {
          "output_type": "stream",
          "text": [
            "Accuracy: \t0.77\n",
            "Precision: \t0.77\n",
            "Recall: \t0.91\n",
            "F1 score: \t0.83\n"
          ],
          "name": "stdout"
        }
      ]
    },
    {
      "cell_type": "code",
      "metadata": {
        "colab_type": "code",
        "outputId": "66ef88b3-9a8b-4eff-abfb-af7da1acd31b",
        "id": "fmfdZgrM2OjH",
        "colab": {
          "base_uri": "https://localhost:8080/",
          "height": 315
        }
      },
      "source": [
        "# Confusion Matrix\n",
        "cm = confusion_matrix(test_labels, np.round(pred_test7))\n",
        "print(cm)\n",
        "\n",
        "fig_cmb = sns.heatmap(cm, cmap='Pastel1', annot=True, fmt='d', square=True)\n",
        "plt.autoscale\n",
        "plt.title('Confusion Matrix')\n",
        "plt.show();"
      ],
      "execution_count": 0,
      "outputs": [
        {
          "output_type": "stream",
          "text": [
            "[[130 104]\n",
            " [ 37 353]]\n"
          ],
          "name": "stdout"
        },
        {
          "output_type": "display_data",
          "data": {
            "image/png": "[encoded data removed]",
            "text/plain": [
              "<Figure size 432x288 with 2 Axes>"
            ]
          },
          "metadata": {
            "tags": [],
            "needs_background": "light"
          }
        }
      ]
    },
    {
      "cell_type": "code",
      "metadata": {
        "id": "HY6C7MeMOU4i",
        "colab_type": "code",
        "colab": {}
      },
      "source": [
        ""
      ],
      "execution_count": 0,
      "outputs": []
    },
    {
      "cell_type": "markdown",
      "metadata": {
        "id": "VivBToFTiEqR",
        "colab_type": "text"
      },
      "source": [
        "## Seventh Model Summary"
      ]
    },
    {
      "cell_type": "markdown",
      "metadata": {
        "id": "Wvpx5NmBiE-K",
        "colab_type": "text"
      },
      "source": [
        "# Conclusion\n",
        "Of the models found Model 5 tends to have the higher group of scores; higher accuracy, precision, f1 and more importantly the higher recall.\n",
        "\n",
        "* Convolution neural networks are most useful classifying images over regular neural networks\n",
        "Dropout is a preferable regularization technique to avoid overfitting in deep neural networks.\n",
        "* L1 (Lasso Regression) regularization adds a “squared magnitude” of the coefficient as a penalty term to the loss function.\n",
        "* L2 (Ridge Regression) regularization adds an \"absolute value of magnitude\" of the coefficient as a penalty term to the loss function.\n",
        "* Google colab aids time on task - so much faster\n",
        "## Future options\n",
        "* Add cross-validation and possibly a grid search to tune arguments.\n",
        "* Find a dataset with more balanced data or add to the normal x-ray training dataset.\n",
        "* Continue to tune parameters/hyperparameters."
      ]
    },
    {
      "cell_type": "code",
      "metadata": {
        "id": "C_K-aCrtiIwM",
        "colab_type": "code",
        "colab": {}
      },
      "source": [
        ""
      ],
      "execution_count": 0,
      "outputs": []
    }
  ]
}